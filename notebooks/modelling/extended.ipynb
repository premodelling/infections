{
 "cells": [
  {
   "cell_type": "markdown",
   "metadata": {},
   "source": [
    "## Preliminaries"
   ]
  },
  {
   "cell_type": "markdown",
   "metadata": {},
   "source": [
    "### Paths"
   ]
  },
  {
   "cell_type": "code",
   "execution_count": 1,
   "metadata": {
    "tags": []
   },
   "outputs": [],
   "source": [
    "import os\n",
    "import pathlib\n",
    "import sys"
   ]
  },
  {
   "cell_type": "code",
   "execution_count": 2,
   "metadata": {},
   "outputs": [],
   "source": [
    "if not 'google.colab' in str(get_ipython()):\n",
    "    \n",
    "    notebooks = os.path.split(os.getcwd())[0]\n",
    "    root = str(pathlib.Path(notebooks).parent)\n",
    "    sys.path.append(root)"
   ]
  },
  {
   "cell_type": "markdown",
   "metadata": {},
   "source": [
    "<br>\n",
    "<br>\n",
    "\n",
    "### Libraries"
   ]
  },
  {
   "cell_type": "code",
   "execution_count": 3,
   "metadata": {},
   "outputs": [],
   "source": [
    "%matplotlib inline\n",
    "\n",
    "import datetime\n",
    "\n",
    "import logging\n",
    "import collections\n",
    "\n",
    "import numpy as np\n",
    "import pandas as pd\n",
    "\n",
    "os.environ[\"CUDA_VISIBLE_DEVICES\"]=\"-1\"  \n",
    "import tensorflow as tf\n",
    "\n",
    "import matplotlib\n",
    "import matplotlib.pyplot as plt\n",
    "import seaborn as sns\n",
    "\n",
    "import IPython\n",
    "import IPython.display\n"
   ]
  },
  {
   "cell_type": "markdown",
   "metadata": {},
   "source": [
    "<br>\n",
    "<br>\n",
    "\n",
    "### Custom"
   ]
  },
  {
   "cell_type": "code",
   "execution_count": 4,
   "metadata": {},
   "outputs": [],
   "source": [
    "import src.prototyping.Settings\n",
    "\n",
    "import src.modelling.DataStreams\n",
    "\n",
    "import src.modelling.DataSplitting\n",
    "import src.modelling.DataReconstructions\n",
    "import src.modelling.Differences\n",
    "import src.modelling.DataNormalisation\n",
    "\n",
    "import src.modelling.WindowGenerator\n",
    "import src.modelling.ModellingSteps"
   ]
  },
  {
   "cell_type": "markdown",
   "metadata": {},
   "source": [
    "<br>\n",
    "\n",
    "Settings:\n",
    "\n",
    "> matplotlib.rcParams.update({'font.size': 13})<br>\n",
    "> matplotlib.rcParams['text.usetex'] = False\n",
    "\n",
    "> plt.rcParams['figure.constrained_layout.use'] = False        \n",
    "\n",
    "> sns.set(font_scale=1)<br>\n",
    "> sns.axes_style('whitegrid', {\"axes.facecolor\": \".9\"})\n"
   ]
  },
  {
   "cell_type": "code",
   "execution_count": 5,
   "metadata": {},
   "outputs": [],
   "source": [
    "src.prototyping.Settings.Settings().aesthetics()"
   ]
  },
  {
   "cell_type": "markdown",
   "metadata": {},
   "source": [
    "<br>\n",
    "\n",
    "### Logging"
   ]
  },
  {
   "cell_type": "code",
   "execution_count": 6,
   "metadata": {
    "tags": []
   },
   "outputs": [],
   "source": [
    "logging.basicConfig(level=logging.INFO,\n",
    "                    format='\\n%(message)s\\n%(asctime)s.%(msecs)03d\\n',\n",
    "                    datefmt='%Y-%m-%d %H:%M:%S')\n",
    "logger = logging.getLogger(__name__)"
   ]
  },
  {
   "cell_type": "markdown",
   "metadata": {},
   "source": [
    "<br>\n",
    "<br>\n",
    "\n",
    "## Data: A Collection of Trusts"
   ]
  },
  {
   "cell_type": "markdown",
   "metadata": {},
   "source": [
    "<br>\n",
    "\n",
    "### The Splits"
   ]
  },
  {
   "cell_type": "markdown",
   "metadata": {},
   "source": [
    "\n",
    "The training, validating, and testing data"
   ]
  },
  {
   "cell_type": "code",
   "execution_count": 7,
   "metadata": {},
   "outputs": [],
   "source": [
    "Fraction = collections.namedtuple(typename='Fraction', field_names=['training', 'validating', 'testing'])\n",
    "training, validating, testing = src.modelling.DataStreams.DataStreams(root=root, fraction=Fraction._make((0.75, 0.15, 0.10))).exc()"
   ]
  },
  {
   "cell_type": "markdown",
   "metadata": {},
   "source": [
    "<br>\n",
    "\n",
    "The split shapes"
   ]
  },
  {
   "cell_type": "code",
   "execution_count": 8,
   "metadata": {},
   "outputs": [
    {
     "name": "stderr",
     "output_type": "stream",
     "text": [
      "\n",
      "training data (72520, 42)\n",
      "2022-01-30 00:34:32.944\n",
      "\n",
      "\n",
      "validating data (14420, 42)\n",
      "2022-01-30 00:34:32.956\n",
      "\n",
      "\n",
      "testing data (9800, 42)\n",
      "2022-01-30 00:34:32.957\n",
      "\n"
     ]
    }
   ],
   "source": [
    "logger.info('training data %s', training.shape)\n",
    "logger.info('validating data %s', validating.shape)\n",
    "logger.info('testing data %s', testing.shape)"
   ]
  },
  {
   "cell_type": "code",
   "execution_count": 9,
   "metadata": {},
   "outputs": [
    {
     "name": "stderr",
     "output_type": "stream",
     "text": [
      "\n",
      "Index(['group', 'date', 'covidOccupiedBeds', 'covidOccupiedMVBeds',\n",
      "       'estimatedNewAdmissions', 'EDC0-4', 'EDC5-9', 'EDC10-14', 'EDC15-19',\n",
      "       'EDC20-24', 'EDC25-29', 'EDC30-34', 'EDC35-39', 'EDC40-44', 'EDC45-49',\n",
      "       'EDC50-54', 'EDC55-59', 'EDC60-64', 'EDC65-69', 'EDC70-74', 'EDC75-79',\n",
      "       'EDC80-84', 'EDC85-89', 'EDC90+', 'newDeaths28DaysByDeathDate',\n",
      "       'EDV12-15', 'EDV16-17', 'EDV18-24', 'EDV25-29', 'EDV30-34', 'EDV35-39',\n",
      "       'EDV40-44', 'EDV45-49', 'EDV50-54', 'EDV55-59', 'EDV60-64', 'EDV65-69',\n",
      "       'EDV70-74', 'EDV75-79', 'EDV80-84', 'EDV85-89', 'EDV90+'],\n",
      "      dtype='object')\n",
      "2022-01-30 00:34:32.966\n",
      "\n"
     ]
    }
   ],
   "source": [
    "logger.info(training.columns)"
   ]
  },
  {
   "cell_type": "code",
   "execution_count": 2,
   "metadata": {},
   "outputs": [],
   "source": [
    "!rm -rf *.pdf"
   ]
  },
  {
   "cell_type": "markdown",
   "metadata": {},
   "source": [
    "<br>\n",
    "<br>\n",
    "\n",
    "### Variable Settings"
   ]
  },
  {
   "cell_type": "markdown",
   "metadata": {},
   "source": [
    "<br>\n",
    "\n",
    "\n",
    "**Reconstructions**"
   ]
  },
  {
   "cell_type": "code",
   "execution_count": 10,
   "metadata": {},
   "outputs": [],
   "source": [
    "reconstructions = src.modelling.DataReconstructions.DataReconstructions()"
   ]
  },
  {
   "cell_type": "code",
   "execution_count": 11,
   "metadata": {},
   "outputs": [],
   "source": [
    "training = reconstructions.exc(blob=training)\n",
    "validating = reconstructions.exc(blob=validating)\n",
    "testing = reconstructions.exc(blob=testing)"
   ]
  },
  {
   "cell_type": "markdown",
   "metadata": {},
   "source": [
    "<br>\n",
    "\n",
    "The shapes"
   ]
  },
  {
   "cell_type": "code",
   "execution_count": 12,
   "metadata": {},
   "outputs": [
    {
     "name": "stderr",
     "output_type": "stream",
     "text": [
      "\n",
      "training data (72520, 42)\n",
      "2022-01-30 00:34:33.168\n",
      "\n",
      "\n",
      "validating data (14420, 42)\n",
      "2022-01-30 00:34:33.169\n",
      "\n",
      "\n",
      "testing data (9800, 42)\n",
      "2022-01-30 00:34:33.170\n",
      "\n"
     ]
    }
   ],
   "source": [
    "logger.info('training data %s', training.shape)\n",
    "logger.info('validating data %s', validating.shape)\n",
    "logger.info('testing data %s', testing.shape)"
   ]
  },
  {
   "cell_type": "code",
   "execution_count": 13,
   "metadata": {},
   "outputs": [
    {
     "name": "stderr",
     "output_type": "stream",
     "text": [
      "\n",
      "Index(['point', 'group', 'covidOccupiedBeds', 'covidOccupiedMVBeds',\n",
      "       'estimatedNewAdmissions', 'EDC0-4', 'EDC5-9', 'EDC10-14', 'EDC15-19',\n",
      "       'EDC20-24', 'EDC25-29', 'EDC30-34', 'EDC35-39', 'EDC40-44', 'EDC45-49',\n",
      "       'EDC50-54', 'EDC55-59', 'EDC60-64', 'EDC65-69', 'EDC70-74', 'EDC75-79',\n",
      "       'EDC80-84', 'EDC85-89', 'EDC90+', 'newDeaths28DaysByDeathDate',\n",
      "       'EDV12-15', 'EDV16-17', 'EDV18-24', 'EDV25-29', 'EDV30-34', 'EDV35-39',\n",
      "       'EDV40-44', 'EDV45-49', 'EDV50-54', 'EDV55-59', 'EDV60-64', 'EDV65-69',\n",
      "       'EDV70-74', 'EDV75-79', 'EDV80-84', 'EDV85-89', 'EDV90+'],\n",
      "      dtype='object')\n",
      "2022-01-30 00:34:33.177\n",
      "\n"
     ]
    }
   ],
   "source": [
    "logger.info(training.columns)"
   ]
  },
  {
   "cell_type": "markdown",
   "metadata": {},
   "source": [
    "<br>\n",
    "<br>\n",
    "\n",
    "**Difference**"
   ]
  },
  {
   "cell_type": "code",
   "execution_count": 14,
   "metadata": {},
   "outputs": [],
   "source": [
    "differences = src.modelling.Differences.Differences()"
   ]
  },
  {
   "cell_type": "code",
   "execution_count": 15,
   "metadata": {},
   "outputs": [
    {
     "name": "stderr",
     "output_type": "stream",
     "text": [
      "\n",
      "training data (72380, 42)\n",
      "2022-01-30 00:34:33.595\n",
      "\n",
      "\n",
      "validating data (14280, 42)\n",
      "2022-01-30 00:34:33.596\n",
      "\n",
      "\n",
      "testing data (9660, 42)\n",
      "2022-01-30 00:34:33.596\n",
      "\n"
     ]
    }
   ],
   "source": [
    "training = differences.exc(blob=training)\n",
    "validating = differences.exc(blob=validating)\n",
    "testing = differences.exc(blob=testing)\n",
    "\n",
    "logger.info('training data %s', training.shape)\n",
    "logger.info('validating data %s', validating.shape)\n",
    "logger.info('testing data %s', testing.shape)"
   ]
  },
  {
   "cell_type": "markdown",
   "metadata": {},
   "source": [
    "<br>\n",
    "<br>\n",
    "\n",
    "**Sample Graphs**"
   ]
  },
  {
   "cell_type": "code",
   "execution_count": 16,
   "metadata": {},
   "outputs": [
    {
     "data": {
      "image/png": "[encoded data removed]",
      "text/plain": [
       "<Figure size 468x424.8 with 2 Axes>"
      ]
     },
     "metadata": {},
     "output_type": "display_data"
    }
   ],
   "source": [
    "excerpt = training.copy()[['group', 'estimatedNewAdmissions', 'newDeaths28DaysByDeathDate']]\n",
    "excerpt.iloc[:10000, 1:3].plot(subplots = True, ylim=(-100, 100), figsize=(6.5, 5.9));"
   ]
  },
  {
   "cell_type": "markdown",
   "metadata": {},
   "source": [
    "<br>\n",
    "<br>\n",
    "\n",
    "**Normalisation**"
   ]
  },
  {
   "cell_type": "markdown",
   "metadata": {},
   "source": [
    "* Via the means & deviations of the training data"
   ]
  },
  {
   "cell_type": "code",
   "execution_count": 17,
   "metadata": {},
   "outputs": [],
   "source": [
    "normalisation = src.modelling.DataNormalisation.DataNormalisation(reference=training)\n",
    "\n",
    "training_ = normalisation.normalise(blob=training)\n",
    "validating_ = normalisation.normalise(blob=validating)\n",
    "testing_ = normalisation.normalise(blob=testing)"
   ]
  },
  {
   "cell_type": "markdown",
   "metadata": {},
   "source": [
    "<br>\n",
    "\n",
    "The normalised values"
   ]
  },
  {
   "cell_type": "code",
   "execution_count": 18,
   "metadata": {},
   "outputs": [
    {
     "name": "stderr",
     "output_type": "stream",
     "text": [
      "\n",
      "Training: (72380, 42)\n",
      "2022-01-30 00:34:35.305\n",
      "\n",
      "\n",
      "Validating: (14280, 42)\n",
      "2022-01-30 00:34:35.307\n",
      "\n",
      "\n",
      "Testing: (9660, 42)\n",
      "2022-01-30 00:34:35.308\n",
      "\n"
     ]
    }
   ],
   "source": [
    "logger.info('Training: %s', training_.shape)\n",
    "logger.info('Validating: %s', validating_.shape)\n",
    "logger.info('Testing: %s', testing_.shape)"
   ]
  },
  {
   "cell_type": "code",
   "execution_count": 19,
   "metadata": {},
   "outputs": [
    {
     "name": "stderr",
     "output_type": "stream",
     "text": [
      "\n",
      "Index(['group', 'covidOccupiedBeds', 'covidOccupiedMVBeds',\n",
      "       'estimatedNewAdmissions', 'EDC0-4', 'EDC5-9', 'EDC10-14', 'EDC15-19',\n",
      "       'EDC20-24', 'EDC25-29', 'EDC30-34', 'EDC35-39', 'EDC40-44', 'EDC45-49',\n",
      "       'EDC50-54', 'EDC55-59', 'EDC60-64', 'EDC65-69', 'EDC70-74', 'EDC75-79',\n",
      "       'EDC80-84', 'EDC85-89', 'EDC90+', 'newDeaths28DaysByDeathDate',\n",
      "       'EDV12-15', 'EDV16-17', 'EDV18-24', 'EDV25-29', 'EDV30-34', 'EDV35-39',\n",
      "       'EDV40-44', 'EDV45-49', 'EDV50-54', 'EDV55-59', 'EDV60-64', 'EDV65-69',\n",
      "       'EDV70-74', 'EDV75-79', 'EDV80-84', 'EDV85-89', 'EDV90+'],\n",
      "      dtype='object')\n",
      "2022-01-30 00:34:35.362\n",
      "\n"
     ]
    }
   ],
   "source": [
    "training_.drop(columns='point', inplace=True)\n",
    "validating_.drop(columns='point', inplace=True)\n",
    "testing_.drop(columns='point', inplace=True)\n",
    "\n",
    "logger.info(training_.columns)"
   ]
  },
  {
   "cell_type": "markdown",
   "metadata": {},
   "source": [
    "<br>\n",
    "<br>\n",
    "\n",
    "## Windows"
   ]
  },
  {
   "cell_type": "markdown",
   "metadata": {},
   "source": [
    "\n",
    "### Window\n"
   ]
  },
  {
   "cell_type": "markdown",
   "metadata": {},
   "source": [
    "<br>\n",
    "\n",
    "**Case**\n",
    "\n",
    "> * Predict `output_steps` days into the future, based on `input_width` days of history\n",
    "\n",
    "Therefore\n",
    "\n",
    "* $sequence\\_length = total\\_window\\_size = input\\_width + output\\_steps$\n",
    "\n",
    "Noting that\n",
    "\n",
    "* $sequence\\_stride = 1$\n",
    "* $batch\\_size = 32$\n",
    "\n",
    "**always**."
   ]
  },
  {
   "cell_type": "markdown",
   "metadata": {},
   "source": [
    "<br>\n",
    "\n",
    "Hence, **defining a *modelling arguments* class** for declaring a set of model arguments, including windowing arguments"
   ]
  },
  {
   "cell_type": "code",
   "execution_count": 20,
   "metadata": {},
   "outputs": [],
   "source": [
    "Arguments = collections.namedtuple(typename='Arguments', \n",
    "                                   field_names=['input_width', 'label_width', 'shift', 'training_', 'validating_', 'testing_', 'label_columns'])"
   ]
  },
  {
   "cell_type": "markdown",
   "metadata": {},
   "source": [
    "<br>\n",
    "\n",
    "**Initialising a *modelling arguments* class**"
   ]
  },
  {
   "cell_type": "code",
   "execution_count": 21,
   "metadata": {},
   "outputs": [],
   "source": [
    "widths = range(27, 40)\n",
    "output_steps = 15\n",
    "input_width = widths[0]"
   ]
  },
  {
   "cell_type": "code",
   "execution_count": 22,
   "metadata": {},
   "outputs": [],
   "source": [
    "arguments = Arguments(input_width=input_width, label_width=output_steps, shift=output_steps, \n",
    "                      training_=training_, validating_=validating_, testing_=testing_, \n",
    "                      label_columns=['estimatedNewAdmissions'])"
   ]
  },
  {
   "cell_type": "markdown",
   "metadata": {},
   "source": [
    "<br>\n",
    "\n",
    "**Initialising a modelling window generator**"
   ]
  },
  {
   "cell_type": "code",
   "execution_count": 23,
   "metadata": {},
   "outputs": [],
   "source": [
    "window = src.modelling.WindowGenerator.WindowGenerator(\n",
    "    input_width=arguments.input_width, label_width=arguments.label_width, shift=arguments.shift,\n",
    "    training=arguments.training_, validating=arguments.validating_, testing=arguments.testing_, \n",
    "    label_columns=arguments.label_columns)"
   ]
  },
  {
   "cell_type": "code",
   "execution_count": 24,
   "metadata": {},
   "outputs": [
    {
     "name": "stderr",
     "output_type": "stream",
     "text": [
      "\n",
      "Total window size: 42\n",
      "Input indices: [ 0  1  2  3  4  5  6  7  8  9 10 11 12 13 14 15 16 17 18 19 20 21 22 23\n",
      " 24 25 26]\n",
      "Label indices: [27 28 29 30 31 32 33 34 35 36 37 38 39 40 41]\n",
      "Label column name(s): ['estimatedNewAdmissions']\n",
      "2022-01-30 00:34:35.394\n",
      "\n"
     ]
    }
   ],
   "source": [
    "logger.info(window)"
   ]
  },
  {
   "cell_type": "markdown",
   "metadata": {},
   "source": [
    "<br>\n",
    "\n",
    "**Specifications**"
   ]
  },
  {
   "cell_type": "code",
   "execution_count": 25,
   "metadata": {},
   "outputs": [
    {
     "name": "stderr",
     "output_type": "stream",
     "text": [
      "\n",
      "(TensorSpec(shape=(None, 27, 41), dtype=tf.float32, name=None), TensorSpec(shape=(None, 15, 1), dtype=tf.float32, name=None))\n",
      "2022-01-30 00:34:35.992\n",
      "\n",
      "\n",
      "(TensorSpec(shape=(None, 27, 41), dtype=tf.float32, name=None), TensorSpec(shape=(None, 15, 1), dtype=tf.float32, name=None))\n",
      "2022-01-30 00:34:36.036\n",
      "\n",
      "\n",
      "(TensorSpec(shape=(None, 27, 41), dtype=tf.float32, name=None), TensorSpec(shape=(None, 15, 1), dtype=tf.float32, name=None))\n",
      "2022-01-30 00:34:36.078\n",
      "\n"
     ]
    }
   ],
   "source": [
    "logger.info(window.train.element_spec)\n",
    "logger.info(window.validate.element_spec)\n",
    "logger.info(window.test.element_spec)"
   ]
  },
  {
   "cell_type": "markdown",
   "metadata": {},
   "source": [
    "<br>\n",
    "<br>\n",
    "\n",
    "## Modelling"
   ]
  },
  {
   "cell_type": "code",
   "execution_count": 26,
   "metadata": {},
   "outputs": [],
   "source": [
    "n_features = training_.shape[1]"
   ]
  },
  {
   "cell_type": "markdown",
   "metadata": {},
   "source": [
    "<br>\n",
    "\n",
    "Initiate a generic modelling steps instance"
   ]
  },
  {
   "cell_type": "code",
   "execution_count": 27,
   "metadata": {},
   "outputs": [],
   "source": [
    "steps = src.modelling.ModellingSteps.ModellingSteps()"
   ]
  },
  {
   "cell_type": "markdown",
   "metadata": {},
   "source": [
    "<br>\n",
    "\n",
    "Diagnostics"
   ]
  },
  {
   "cell_type": "code",
   "execution_count": 28,
   "metadata": {},
   "outputs": [],
   "source": [
    "validations = pd.DataFrame(columns=['method', 'history', 'ahead', 'loss', 'mae'])\n",
    "tests = pd.DataFrame(columns=['method', 'history', 'ahead', 'loss', 'mae'])"
   ]
  },
  {
   "cell_type": "markdown",
   "metadata": {},
   "source": [
    "<br>\n",
    "<br>\n",
    "\n",
    "### Convolution"
   ]
  },
  {
   "cell_type": "code",
   "execution_count": 29,
   "metadata": {},
   "outputs": [],
   "source": [
    "convolution_width = input_width"
   ]
  },
  {
   "cell_type": "code",
   "execution_count": 30,
   "metadata": {},
   "outputs": [
    {
     "name": "stdout",
     "output_type": "stream",
     "text": [
      "Epoch 1/100\n",
      "2261/2261 [==============================] - 14s 6ms/step - loss: 39.1974 - mean_absolute_error: 1.7676 - val_loss: 0.6891 - val_mean_absolute_error: 0.6178\n",
      "Epoch 2/100\n",
      "2261/2261 [==============================] - 13s 6ms/step - loss: 2.9994 - mean_absolute_error: 0.7132 - val_loss: 0.5966 - val_mean_absolute_error: 0.5741\n",
      "Epoch 3/100\n",
      "2261/2261 [==============================] - 14s 6ms/step - loss: 1.6015 - mean_absolute_error: 0.6630 - val_loss: 0.5198 - val_mean_absolute_error: 0.5278\n",
      "Epoch 4/100\n",
      "2261/2261 [==============================] - 14s 6ms/step - loss: 1.6158 - mean_absolute_error: 0.6673 - val_loss: 0.7586 - val_mean_absolute_error: 0.6126\n",
      "Epoch 5/100\n",
      "2261/2261 [==============================] - 15s 7ms/step - loss: 1.6985 - mean_absolute_error: 0.6658 - val_loss: 9.2017 - val_mean_absolute_error: 1.3708\n",
      "Epoch 6/100\n",
      "2261/2261 [==============================] - 15s 7ms/step - loss: 1.1881 - mean_absolute_error: 0.5756 - val_loss: 0.4856 - val_mean_absolute_error: 0.5019\n",
      "Epoch 7/100\n",
      "2261/2261 [==============================] - 15s 7ms/step - loss: 1.1743 - mean_absolute_error: 0.5700 - val_loss: 0.4940 - val_mean_absolute_error: 0.5073\n",
      "Epoch 8/100\n",
      "2261/2261 [==============================] - 14s 6ms/step - loss: 1.0318 - mean_absolute_error: 0.5215 - val_loss: 0.4789 - val_mean_absolute_error: 0.4949\n",
      "Epoch 9/100\n",
      "2261/2261 [==============================] - 14s 6ms/step - loss: 2.6201 - mean_absolute_error: 0.7322 - val_loss: 3.8683 - val_mean_absolute_error: 1.1687\n",
      "Epoch 10/100\n",
      "2261/2261 [==============================] - 15s 6ms/step - loss: 1.2700 - mean_absolute_error: 0.5882 - val_loss: 0.4863 - val_mean_absolute_error: 0.5017\n",
      "Epoch 11/100\n",
      "2261/2261 [==============================] - 15s 7ms/step - loss: 1.0132 - mean_absolute_error: 0.5144 - val_loss: 0.4793 - val_mean_absolute_error: 0.4952\n",
      "Epoch 12/100\n",
      "2261/2261 [==============================] - 15s 7ms/step - loss: 1.1551 - mean_absolute_error: 0.5604 - val_loss: 0.4837 - val_mean_absolute_error: 0.4994\n",
      "Epoch 13/100\n",
      "2261/2261 [==============================] - 15s 7ms/step - loss: 1.0168 - mean_absolute_error: 0.5198 - val_loss: 0.4792 - val_mean_absolute_error: 0.4952\n",
      "Epoch 14/100\n",
      "2261/2261 [==============================] - 15s 7ms/step - loss: 2.2676 - mean_absolute_error: 0.7242 - val_loss: 1.2872 - val_mean_absolute_error: 0.7514\n",
      "Epoch 15/100\n",
      "2261/2261 [==============================] - 15s 7ms/step - loss: 1.0433 - mean_absolute_error: 0.5301 - val_loss: 0.4843 - val_mean_absolute_error: 0.5001\n",
      "Epoch 16/100\n",
      "2261/2261 [==============================] - 15s 7ms/step - loss: 1.0258 - mean_absolute_error: 0.5178 - val_loss: 0.4848 - val_mean_absolute_error: 0.5006\n",
      "Epoch 17/100\n",
      "2261/2261 [==============================] - 15s 7ms/step - loss: 1.3064 - mean_absolute_error: 0.6035 - val_loss: 0.4982 - val_mean_absolute_error: 0.5111\n"
     ]
    }
   ],
   "source": [
    "convolution = tf.keras.Sequential([    \n",
    "    tf.keras.layers.Lambda(lambda x: x[:, -convolution_width:, :]),    \n",
    "    tf.keras.layers.Conv1D(256, activation='relu', kernel_size=(convolution_width)),\n",
    "    tf.keras.layers.Dense(output_steps * n_features, kernel_initializer=tf.initializers.zeros()),\n",
    "    tf.keras.layers.Reshape([output_steps, n_features])\n",
    "])\n",
    "\n",
    "convolution_ = steps.modelling(model=convolution, window=window)"
   ]
  },
  {
   "cell_type": "code",
   "execution_count": 31,
   "metadata": {},
   "outputs": [],
   "source": [
    "validations.loc[validations.shape[0], :] = ['CNN', input_width, output_steps] + convolution_.model.evaluate(window.validate, verbose=0)\n",
    "tests.loc[tests.shape[0], :] = ['CNN', input_width, output_steps] + convolution_.model.evaluate(window.test, verbose=0)"
   ]
  },
  {
   "cell_type": "markdown",
   "metadata": {},
   "source": [
    "<br>\n",
    "<br>\n",
    "\n",
    "### RNN"
   ]
  },
  {
   "cell_type": "code",
   "execution_count": 32,
   "metadata": {},
   "outputs": [
    {
     "name": "stdout",
     "output_type": "stream",
     "text": [
      "Epoch 1/100\n",
      "2261/2261 [==============================] - 32s 13ms/step - loss: 0.9990 - mean_absolute_error: 0.4979 - val_loss: 0.4723 - val_mean_absolute_error: 0.4890\n",
      "Epoch 2/100\n",
      "2261/2261 [==============================] - 30s 13ms/step - loss: 0.9978 - mean_absolute_error: 0.4988 - val_loss: 0.4724 - val_mean_absolute_error: 0.4892\n",
      "Epoch 3/100\n",
      "2261/2261 [==============================] - 30s 13ms/step - loss: 0.9963 - mean_absolute_error: 0.4998 - val_loss: 0.4728 - val_mean_absolute_error: 0.4908\n",
      "Epoch 4/100\n",
      "2261/2261 [==============================] - 30s 13ms/step - loss: 0.9942 - mean_absolute_error: 0.5008 - val_loss: 0.4740 - val_mean_absolute_error: 0.4924\n",
      "Epoch 5/100\n",
      "2261/2261 [==============================] - 30s 13ms/step - loss: 0.9921 - mean_absolute_error: 0.5017 - val_loss: 0.4753 - val_mean_absolute_error: 0.4941\n",
      "Epoch 6/100\n",
      "2261/2261 [==============================] - 30s 13ms/step - loss: 0.9893 - mean_absolute_error: 0.5025 - val_loss: 0.4780 - val_mean_absolute_error: 0.4970\n",
      "Epoch 7/100\n",
      "2261/2261 [==============================] - 30s 13ms/step - loss: 0.9864 - mean_absolute_error: 0.5034 - val_loss: 0.4822 - val_mean_absolute_error: 0.5007\n",
      "Epoch 8/100\n",
      "2261/2261 [==============================] - 30s 13ms/step - loss: 0.9820 - mean_absolute_error: 0.5043 - val_loss: 0.4877 - val_mean_absolute_error: 0.5051\n",
      "Epoch 9/100\n",
      "2261/2261 [==============================] - 30s 13ms/step - loss: 0.9781 - mean_absolute_error: 0.5049 - val_loss: 0.4914 - val_mean_absolute_error: 0.5078\n",
      "Epoch 10/100\n",
      "2261/2261 [==============================] - 30s 13ms/step - loss: 0.9725 - mean_absolute_error: 0.5058 - val_loss: 0.4971 - val_mean_absolute_error: 0.5118\n"
     ]
    }
   ],
   "source": [
    "lstm = tf.keras.Sequential([    \n",
    "    tf.keras.layers.LSTM(32, return_sequences=False),    \n",
    "    tf.keras.layers.Dense(output_steps * n_features, kernel_initializer=tf.initializers.zeros()),    \n",
    "    tf.keras.layers.Reshape([output_steps, n_features])\n",
    "])\n",
    "\n",
    "lstm_ = steps.modelling(model=lstm, window=window)"
   ]
  },
  {
   "cell_type": "code",
   "execution_count": 33,
   "metadata": {},
   "outputs": [],
   "source": [
    "validations.loc[validations.shape[0], :] = ['LSTM', input_width, output_steps] + lstm_.model.evaluate(window.validate, verbose=0)\n",
    "tests.loc[tests.shape[0], :] = ['LSTM', input_width, output_steps] + lstm_.model.evaluate(window.test, verbose=0)"
   ]
  },
  {
   "cell_type": "markdown",
   "metadata": {},
   "source": [
    "<br>\n",
    "<br>\n",
    "\n",
    "### GRU"
   ]
  },
  {
   "cell_type": "markdown",
   "metadata": {},
   "source": [
    "```python\n",
    "gru = tf.keras.Sequential([\n",
    "    tf.keras.layers.GRU(32, input_shape=(input_width, n_features), return_sequences=True, activation='relu', kernel_initializer=tf.initializers.HeUniform()),\n",
    "    tf.keras.layers.Dropout(0.1),\n",
    "    tf.keras.layers.GRU(16, return_sequences=True, activation='relu'),\n",
    "    tf.keras.layers.Dropout(0.1),\n",
    "    tf.keras.layers.GRU(output_steps * n_features, activation='relu'),\n",
    "    tf.keras.layers.Reshape([output_steps, n_features])\n",
    "])\n",
    "\n",
    "gru_ = steps.modelling(model=gru, window=window)\n",
    "```"
   ]
  },
  {
   "cell_type": "markdown",
   "metadata": {},
   "source": [
    "```python\n",
    "validations.loc[validations.shape[0], :] = ['GRU', input_width, output_steps] + gru_.model.evaluate(window.validate, verbose=0)\n",
    "tests.loc[tests.shape[0], :] = ['GRU', input_width, output_steps] + gru_.model.evaluate(window.test, verbose=0)\n",
    "```"
   ]
  },
  {
   "cell_type": "markdown",
   "metadata": {},
   "source": [
    "<br>\n",
    "<br>\n",
    "\n",
    "## Performance"
   ]
  },
  {
   "cell_type": "markdown",
   "metadata": {},
   "source": [
    "### Endpoints"
   ]
  },
  {
   "cell_type": "code",
   "execution_count": 34,
   "metadata": {},
   "outputs": [
    {
     "data": {
      "text/html": [
       "<div>\n",
       "<style scoped>\n",
       "    .dataframe tbody tr th:only-of-type {\n",
       "        vertical-align: middle;\n",
       "    }\n",
       "\n",
       "    .dataframe tbody tr th {\n",
       "        vertical-align: top;\n",
       "    }\n",
       "\n",
       "    .dataframe thead th {\n",
       "        text-align: right;\n",
       "    }\n",
       "</style>\n",
       "<table border=\"1\" class=\"dataframe\">\n",
       "  <thead>\n",
       "    <tr style=\"text-align: right;\">\n",
       "      <th></th>\n",
       "      <th>method</th>\n",
       "      <th>history</th>\n",
       "      <th>ahead</th>\n",
       "      <th>loss</th>\n",
       "      <th>mae</th>\n",
       "    </tr>\n",
       "  </thead>\n",
       "  <tbody>\n",
       "    <tr>\n",
       "      <th>0</th>\n",
       "      <td>CNN</td>\n",
       "      <td>27</td>\n",
       "      <td>15</td>\n",
       "      <td>0.498223</td>\n",
       "      <td>0.511096</td>\n",
       "    </tr>\n",
       "    <tr>\n",
       "      <th>1</th>\n",
       "      <td>LSTM</td>\n",
       "      <td>27</td>\n",
       "      <td>15</td>\n",
       "      <td>0.497101</td>\n",
       "      <td>0.511819</td>\n",
       "    </tr>\n",
       "  </tbody>\n",
       "</table>\n",
       "</div>"
      ],
      "text/plain": [
       "  method history ahead      loss       mae\n",
       "0    CNN      27    15  0.498223  0.511096\n",
       "1   LSTM      27    15  0.497101  0.511819"
      ]
     },
     "execution_count": 34,
     "metadata": {},
     "output_type": "execute_result"
    }
   ],
   "source": [
    "validations"
   ]
  },
  {
   "cell_type": "code",
   "execution_count": 35,
   "metadata": {},
   "outputs": [
    {
     "data": {
      "text/html": [
       "<div>\n",
       "<style scoped>\n",
       "    .dataframe tbody tr th:only-of-type {\n",
       "        vertical-align: middle;\n",
       "    }\n",
       "\n",
       "    .dataframe tbody tr th {\n",
       "        vertical-align: top;\n",
       "    }\n",
       "\n",
       "    .dataframe thead th {\n",
       "        text-align: right;\n",
       "    }\n",
       "</style>\n",
       "<table border=\"1\" class=\"dataframe\">\n",
       "  <thead>\n",
       "    <tr style=\"text-align: right;\">\n",
       "      <th></th>\n",
       "      <th>method</th>\n",
       "      <th>history</th>\n",
       "      <th>ahead</th>\n",
       "      <th>loss</th>\n",
       "      <th>mae</th>\n",
       "    </tr>\n",
       "  </thead>\n",
       "  <tbody>\n",
       "    <tr>\n",
       "      <th>0</th>\n",
       "      <td>CNN</td>\n",
       "      <td>27</td>\n",
       "      <td>15</td>\n",
       "      <td>2.18101</td>\n",
       "      <td>0.938894</td>\n",
       "    </tr>\n",
       "    <tr>\n",
       "      <th>1</th>\n",
       "      <td>LSTM</td>\n",
       "      <td>27</td>\n",
       "      <td>15</td>\n",
       "      <td>1.11808</td>\n",
       "      <td>0.689317</td>\n",
       "    </tr>\n",
       "  </tbody>\n",
       "</table>\n",
       "</div>"
      ],
      "text/plain": [
       "  method history ahead     loss       mae\n",
       "0    CNN      27    15  2.18101  0.938894\n",
       "1   LSTM      27    15  1.11808  0.689317"
      ]
     },
     "execution_count": 35,
     "metadata": {},
     "output_type": "execute_result"
    }
   ],
   "source": [
    "tests"
   ]
  },
  {
   "cell_type": "markdown",
   "metadata": {},
   "source": [
    "<br>\n",
    "\n",
    "### Histories"
   ]
  },
  {
   "cell_type": "markdown",
   "metadata": {},
   "source": [
    "**Convolution**"
   ]
  },
  {
   "cell_type": "code",
   "execution_count": 36,
   "metadata": {},
   "outputs": [
    {
     "data": {
      "text/html": [
       "<div>\n",
       "<style scoped>\n",
       "    .dataframe tbody tr th:only-of-type {\n",
       "        vertical-align: middle;\n",
       "    }\n",
       "\n",
       "    .dataframe tbody tr th {\n",
       "        vertical-align: top;\n",
       "    }\n",
       "\n",
       "    .dataframe thead th {\n",
       "        text-align: right;\n",
       "    }\n",
       "</style>\n",
       "<table border=\"1\" class=\"dataframe\">\n",
       "  <thead>\n",
       "    <tr style=\"text-align: right;\">\n",
       "      <th></th>\n",
       "      <th>loss</th>\n",
       "      <th>mean_absolute_error</th>\n",
       "      <th>val_loss</th>\n",
       "      <th>val_mean_absolute_error</th>\n",
       "      <th>method</th>\n",
       "      <th>history</th>\n",
       "      <th>ahead</th>\n",
       "    </tr>\n",
       "  </thead>\n",
       "  <tbody>\n",
       "    <tr>\n",
       "      <th>0</th>\n",
       "      <td>39.197395</td>\n",
       "      <td>1.767592</td>\n",
       "      <td>0.689102</td>\n",
       "      <td>0.617779</td>\n",
       "      <td>CNN</td>\n",
       "      <td>27</td>\n",
       "      <td>15</td>\n",
       "    </tr>\n",
       "    <tr>\n",
       "      <th>1</th>\n",
       "      <td>2.999449</td>\n",
       "      <td>0.713157</td>\n",
       "      <td>0.596590</td>\n",
       "      <td>0.574074</td>\n",
       "      <td>CNN</td>\n",
       "      <td>27</td>\n",
       "      <td>15</td>\n",
       "    </tr>\n",
       "    <tr>\n",
       "      <th>2</th>\n",
       "      <td>1.601503</td>\n",
       "      <td>0.663026</td>\n",
       "      <td>0.519847</td>\n",
       "      <td>0.527824</td>\n",
       "      <td>CNN</td>\n",
       "      <td>27</td>\n",
       "      <td>15</td>\n",
       "    </tr>\n",
       "    <tr>\n",
       "      <th>3</th>\n",
       "      <td>1.615808</td>\n",
       "      <td>0.667322</td>\n",
       "      <td>0.758597</td>\n",
       "      <td>0.612596</td>\n",
       "      <td>CNN</td>\n",
       "      <td>27</td>\n",
       "      <td>15</td>\n",
       "    </tr>\n",
       "    <tr>\n",
       "      <th>4</th>\n",
       "      <td>1.698496</td>\n",
       "      <td>0.665824</td>\n",
       "      <td>9.201745</td>\n",
       "      <td>1.370777</td>\n",
       "      <td>CNN</td>\n",
       "      <td>27</td>\n",
       "      <td>15</td>\n",
       "    </tr>\n",
       "    <tr>\n",
       "      <th>5</th>\n",
       "      <td>1.188086</td>\n",
       "      <td>0.575621</td>\n",
       "      <td>0.485564</td>\n",
       "      <td>0.501946</td>\n",
       "      <td>CNN</td>\n",
       "      <td>27</td>\n",
       "      <td>15</td>\n",
       "    </tr>\n",
       "    <tr>\n",
       "      <th>6</th>\n",
       "      <td>1.174344</td>\n",
       "      <td>0.570001</td>\n",
       "      <td>0.493994</td>\n",
       "      <td>0.507256</td>\n",
       "      <td>CNN</td>\n",
       "      <td>27</td>\n",
       "      <td>15</td>\n",
       "    </tr>\n",
       "    <tr>\n",
       "      <th>7</th>\n",
       "      <td>1.031752</td>\n",
       "      <td>0.521531</td>\n",
       "      <td>0.478851</td>\n",
       "      <td>0.494866</td>\n",
       "      <td>CNN</td>\n",
       "      <td>27</td>\n",
       "      <td>15</td>\n",
       "    </tr>\n",
       "    <tr>\n",
       "      <th>8</th>\n",
       "      <td>2.620107</td>\n",
       "      <td>0.732203</td>\n",
       "      <td>3.868306</td>\n",
       "      <td>1.168700</td>\n",
       "      <td>CNN</td>\n",
       "      <td>27</td>\n",
       "      <td>15</td>\n",
       "    </tr>\n",
       "    <tr>\n",
       "      <th>9</th>\n",
       "      <td>1.269967</td>\n",
       "      <td>0.588232</td>\n",
       "      <td>0.486278</td>\n",
       "      <td>0.501661</td>\n",
       "      <td>CNN</td>\n",
       "      <td>27</td>\n",
       "      <td>15</td>\n",
       "    </tr>\n",
       "    <tr>\n",
       "      <th>10</th>\n",
       "      <td>1.013159</td>\n",
       "      <td>0.514367</td>\n",
       "      <td>0.479340</td>\n",
       "      <td>0.495241</td>\n",
       "      <td>CNN</td>\n",
       "      <td>27</td>\n",
       "      <td>15</td>\n",
       "    </tr>\n",
       "    <tr>\n",
       "      <th>11</th>\n",
       "      <td>1.155134</td>\n",
       "      <td>0.560360</td>\n",
       "      <td>0.483711</td>\n",
       "      <td>0.499438</td>\n",
       "      <td>CNN</td>\n",
       "      <td>27</td>\n",
       "      <td>15</td>\n",
       "    </tr>\n",
       "    <tr>\n",
       "      <th>12</th>\n",
       "      <td>1.016830</td>\n",
       "      <td>0.519830</td>\n",
       "      <td>0.479220</td>\n",
       "      <td>0.495154</td>\n",
       "      <td>CNN</td>\n",
       "      <td>27</td>\n",
       "      <td>15</td>\n",
       "    </tr>\n",
       "    <tr>\n",
       "      <th>13</th>\n",
       "      <td>2.267615</td>\n",
       "      <td>0.724209</td>\n",
       "      <td>1.287171</td>\n",
       "      <td>0.751412</td>\n",
       "      <td>CNN</td>\n",
       "      <td>27</td>\n",
       "      <td>15</td>\n",
       "    </tr>\n",
       "    <tr>\n",
       "      <th>14</th>\n",
       "      <td>1.043268</td>\n",
       "      <td>0.530056</td>\n",
       "      <td>0.484311</td>\n",
       "      <td>0.500122</td>\n",
       "      <td>CNN</td>\n",
       "      <td>27</td>\n",
       "      <td>15</td>\n",
       "    </tr>\n",
       "    <tr>\n",
       "      <th>15</th>\n",
       "      <td>1.025844</td>\n",
       "      <td>0.517847</td>\n",
       "      <td>0.484751</td>\n",
       "      <td>0.500571</td>\n",
       "      <td>CNN</td>\n",
       "      <td>27</td>\n",
       "      <td>15</td>\n",
       "    </tr>\n",
       "    <tr>\n",
       "      <th>16</th>\n",
       "      <td>1.306384</td>\n",
       "      <td>0.603535</td>\n",
       "      <td>0.498223</td>\n",
       "      <td>0.511096</td>\n",
       "      <td>CNN</td>\n",
       "      <td>27</td>\n",
       "      <td>15</td>\n",
       "    </tr>\n",
       "  </tbody>\n",
       "</table>\n",
       "</div>"
      ],
      "text/plain": [
       "         loss  mean_absolute_error  val_loss  val_mean_absolute_error method  \\\n",
       "0   39.197395             1.767592  0.689102                 0.617779    CNN   \n",
       "1    2.999449             0.713157  0.596590                 0.574074    CNN   \n",
       "2    1.601503             0.663026  0.519847                 0.527824    CNN   \n",
       "3    1.615808             0.667322  0.758597                 0.612596    CNN   \n",
       "4    1.698496             0.665824  9.201745                 1.370777    CNN   \n",
       "5    1.188086             0.575621  0.485564                 0.501946    CNN   \n",
       "6    1.174344             0.570001  0.493994                 0.507256    CNN   \n",
       "7    1.031752             0.521531  0.478851                 0.494866    CNN   \n",
       "8    2.620107             0.732203  3.868306                 1.168700    CNN   \n",
       "9    1.269967             0.588232  0.486278                 0.501661    CNN   \n",
       "10   1.013159             0.514367  0.479340                 0.495241    CNN   \n",
       "11   1.155134             0.560360  0.483711                 0.499438    CNN   \n",
       "12   1.016830             0.519830  0.479220                 0.495154    CNN   \n",
       "13   2.267615             0.724209  1.287171                 0.751412    CNN   \n",
       "14   1.043268             0.530056  0.484311                 0.500122    CNN   \n",
       "15   1.025844             0.517847  0.484751                 0.500571    CNN   \n",
       "16   1.306384             0.603535  0.498223                 0.511096    CNN   \n",
       "\n",
       "    history  ahead  \n",
       "0        27     15  \n",
       "1        27     15  \n",
       "2        27     15  \n",
       "3        27     15  \n",
       "4        27     15  \n",
       "5        27     15  \n",
       "6        27     15  \n",
       "7        27     15  \n",
       "8        27     15  \n",
       "9        27     15  \n",
       "10       27     15  \n",
       "11       27     15  \n",
       "12       27     15  \n",
       "13       27     15  \n",
       "14       27     15  \n",
       "15       27     15  \n",
       "16       27     15  "
      ]
     },
     "execution_count": 36,
     "metadata": {},
     "output_type": "execute_result"
    }
   ],
   "source": [
    "convolution_history = pd.DataFrame(convolution_.history)\n",
    "convolution_history.loc[:, 'method'] = 'CNN'\n",
    "convolution_history.loc[:, 'history'] = input_width\n",
    "convolution_history.loc[:, 'ahead'] = output_steps\n",
    "convolution_history"
   ]
  },
  {
   "cell_type": "markdown",
   "metadata": {},
   "source": [
    "<br>\n",
    "\n",
    "**LSTM**"
   ]
  },
  {
   "cell_type": "code",
   "execution_count": 37,
   "metadata": {},
   "outputs": [
    {
     "data": {
      "text/html": [
       "<div>\n",
       "<style scoped>\n",
       "    .dataframe tbody tr th:only-of-type {\n",
       "        vertical-align: middle;\n",
       "    }\n",
       "\n",
       "    .dataframe tbody tr th {\n",
       "        vertical-align: top;\n",
       "    }\n",
       "\n",
       "    .dataframe thead th {\n",
       "        text-align: right;\n",
       "    }\n",
       "</style>\n",
       "<table border=\"1\" class=\"dataframe\">\n",
       "  <thead>\n",
       "    <tr style=\"text-align: right;\">\n",
       "      <th></th>\n",
       "      <th>loss</th>\n",
       "      <th>mean_absolute_error</th>\n",
       "      <th>val_loss</th>\n",
       "      <th>val_mean_absolute_error</th>\n",
       "      <th>method</th>\n",
       "      <th>history</th>\n",
       "      <th>ahead</th>\n",
       "    </tr>\n",
       "  </thead>\n",
       "  <tbody>\n",
       "    <tr>\n",
       "      <th>0</th>\n",
       "      <td>0.998966</td>\n",
       "      <td>0.497934</td>\n",
       "      <td>0.472296</td>\n",
       "      <td>0.488981</td>\n",
       "      <td>LSTM</td>\n",
       "      <td>27</td>\n",
       "      <td>15</td>\n",
       "    </tr>\n",
       "    <tr>\n",
       "      <th>1</th>\n",
       "      <td>0.997758</td>\n",
       "      <td>0.498828</td>\n",
       "      <td>0.472450</td>\n",
       "      <td>0.489181</td>\n",
       "      <td>LSTM</td>\n",
       "      <td>27</td>\n",
       "      <td>15</td>\n",
       "    </tr>\n",
       "    <tr>\n",
       "      <th>2</th>\n",
       "      <td>0.996345</td>\n",
       "      <td>0.499755</td>\n",
       "      <td>0.472766</td>\n",
       "      <td>0.490754</td>\n",
       "      <td>LSTM</td>\n",
       "      <td>27</td>\n",
       "      <td>15</td>\n",
       "    </tr>\n",
       "    <tr>\n",
       "      <th>3</th>\n",
       "      <td>0.994235</td>\n",
       "      <td>0.500828</td>\n",
       "      <td>0.473960</td>\n",
       "      <td>0.492424</td>\n",
       "      <td>LSTM</td>\n",
       "      <td>27</td>\n",
       "      <td>15</td>\n",
       "    </tr>\n",
       "    <tr>\n",
       "      <th>4</th>\n",
       "      <td>0.992082</td>\n",
       "      <td>0.501704</td>\n",
       "      <td>0.475283</td>\n",
       "      <td>0.494114</td>\n",
       "      <td>LSTM</td>\n",
       "      <td>27</td>\n",
       "      <td>15</td>\n",
       "    </tr>\n",
       "    <tr>\n",
       "      <th>5</th>\n",
       "      <td>0.989257</td>\n",
       "      <td>0.502487</td>\n",
       "      <td>0.478032</td>\n",
       "      <td>0.497015</td>\n",
       "      <td>LSTM</td>\n",
       "      <td>27</td>\n",
       "      <td>15</td>\n",
       "    </tr>\n",
       "    <tr>\n",
       "      <th>6</th>\n",
       "      <td>0.986437</td>\n",
       "      <td>0.503365</td>\n",
       "      <td>0.482224</td>\n",
       "      <td>0.500722</td>\n",
       "      <td>LSTM</td>\n",
       "      <td>27</td>\n",
       "      <td>15</td>\n",
       "    </tr>\n",
       "    <tr>\n",
       "      <th>7</th>\n",
       "      <td>0.982034</td>\n",
       "      <td>0.504277</td>\n",
       "      <td>0.487704</td>\n",
       "      <td>0.505092</td>\n",
       "      <td>LSTM</td>\n",
       "      <td>27</td>\n",
       "      <td>15</td>\n",
       "    </tr>\n",
       "    <tr>\n",
       "      <th>8</th>\n",
       "      <td>0.978102</td>\n",
       "      <td>0.504926</td>\n",
       "      <td>0.491400</td>\n",
       "      <td>0.507771</td>\n",
       "      <td>LSTM</td>\n",
       "      <td>27</td>\n",
       "      <td>15</td>\n",
       "    </tr>\n",
       "    <tr>\n",
       "      <th>9</th>\n",
       "      <td>0.972464</td>\n",
       "      <td>0.505820</td>\n",
       "      <td>0.497101</td>\n",
       "      <td>0.511819</td>\n",
       "      <td>LSTM</td>\n",
       "      <td>27</td>\n",
       "      <td>15</td>\n",
       "    </tr>\n",
       "  </tbody>\n",
       "</table>\n",
       "</div>"
      ],
      "text/plain": [
       "       loss  mean_absolute_error  val_loss  val_mean_absolute_error method  \\\n",
       "0  0.998966             0.497934  0.472296                 0.488981   LSTM   \n",
       "1  0.997758             0.498828  0.472450                 0.489181   LSTM   \n",
       "2  0.996345             0.499755  0.472766                 0.490754   LSTM   \n",
       "3  0.994235             0.500828  0.473960                 0.492424   LSTM   \n",
       "4  0.992082             0.501704  0.475283                 0.494114   LSTM   \n",
       "5  0.989257             0.502487  0.478032                 0.497015   LSTM   \n",
       "6  0.986437             0.503365  0.482224                 0.500722   LSTM   \n",
       "7  0.982034             0.504277  0.487704                 0.505092   LSTM   \n",
       "8  0.978102             0.504926  0.491400                 0.507771   LSTM   \n",
       "9  0.972464             0.505820  0.497101                 0.511819   LSTM   \n",
       "\n",
       "   history  ahead  \n",
       "0       27     15  \n",
       "1       27     15  \n",
       "2       27     15  \n",
       "3       27     15  \n",
       "4       27     15  \n",
       "5       27     15  \n",
       "6       27     15  \n",
       "7       27     15  \n",
       "8       27     15  \n",
       "9       27     15  "
      ]
     },
     "execution_count": 37,
     "metadata": {},
     "output_type": "execute_result"
    }
   ],
   "source": [
    "lstm_history = pd.DataFrame(data=lstm_.history)\n",
    "lstm_history.loc[:, 'method'] = 'LSTM'\n",
    "lstm_history.loc[:, 'history'] = input_width\n",
    "lstm_history.loc[:, 'ahead'] = output_steps\n",
    "lstm_history"
   ]
  },
  {
   "cell_type": "markdown",
   "metadata": {},
   "source": [
    "<br>\n",
    "\n",
    "**GRU**\n",
    "\n"
   ]
  },
  {
   "cell_type": "markdown",
   "metadata": {},
   "source": [
    "```python\n",
    "gru_history = pd.DataFrame(data=gru_.history)\n",
    "gru_history.loc[:, 'method'] = 'GRU'\n",
    "gru_history.loc[:, 'history'] = input_width\n",
    "gru_history.loc[:, 'ahead'] = output_steps\n",
    "gru_history\n",
    "```"
   ]
  },
  {
   "cell_type": "markdown",
   "metadata": {},
   "source": [
    "<br>\n",
    "<br>\n",
    "\n",
    "## A Note About Predictors"
   ]
  },
  {
   "cell_type": "markdown",
   "metadata": {},
   "source": [
    "* https://www.tensorflow.org/api_docs/python/tf/keras/Model\n",
    "* https://www.tensorflow.org/api_docs/python/tf/keras/Model#predict"
   ]
  },
  {
   "cell_type": "markdown",
   "metadata": {},
   "source": [
    "<br>\n",
    "\n",
    "The predicted object must be de-windowed, de-normalised, de-differenced, de-constructed; take note of the reverse order of the arithmetic steps."
   ]
  },
  {
   "cell_type": "code",
   "execution_count": 123,
   "metadata": {},
   "outputs": [],
   "source": [
    "object = lstm_.model.predict(window.test)"
   ]
  },
  {
   "cell_type": "code",
   "execution_count": 125,
   "metadata": {},
   "outputs": [
    {
     "data": {
      "text/plain": [
       "(9619, 15, 41)"
      ]
     },
     "execution_count": 125,
     "metadata": {},
     "output_type": "execute_result"
    }
   ],
   "source": [
    "object.shape"
   ]
  }
 ],
 "metadata": {
  "kernelspec": {
   "display_name": "Python 3",
   "language": "python",
   "name": "python3"
  },
  "language_info": {
   "codemirror_mode": {
    "name": "ipython",
    "version": 3
   },
   "file_extension": ".py",
   "mimetype": "text/x-python",
   "name": "python",
   "nbconvert_exporter": "python",
   "pygments_lexer": "ipython3",
   "version": "3.7.11"
  }
 },
 "nbformat": 4,
 "nbformat_minor": 4
}
