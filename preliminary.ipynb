{
 "cells": [
  {
   "cell_type": "markdown",
   "metadata": {},
   "source": [
    "<p style=\"margin-left:30%; margin-right:1%;\">\n",
    "<img align=\"middle\" src=\"./images/flow.png\" style=\"width: 49%; height: 49%;\" />\n",
    "</p>\n"
   ]
  },
  {
   "cell_type": "markdown",
   "metadata": {},
   "source": [
    "<br>\n",
    "\n",
    "This notebook is focused on the structuring, integrating, and features engineering aspects of the project.  It\n",
    "\n",
    "* Processes, structures, and integrates geographic, demographic, and patient flows data.\n",
    "* Optionally reads England's SARS-CoV-2/Coronavirus 19 Disease measures via the coronavirus.data.gov.uk API.\n",
    "* Creates features.\n",
    "* Creates raw design matrices per National Health Service Trust.\n",
    "\n",
    "<br>\n",
    "\n",
    "**A note about reading England's SARS-CoV-2/Coronavirus 19 Disease measures via the coronavirus.data.gov.uk API**\n",
    "\n",
    "The coronavirus.data.gov.uk section is commented out because a large volume of data has to be read from coronavirus.data.gov.uk, via its API. The *infections* repository includes\n",
    "a downloaded data set\n",
    "\n",
    "> https://github.com/premodelling/infections/tree/master/warehouse/virus\n",
    "\n",
    "Otherwise, uncomment the code blocks within the coronavirus.data.gov.uk section.  However, beware, after a few data reads data.gov.uk might deny \n",
    "access - after an unkown number of API reads.\n",
    "\n",
    "<br>"
   ]
  },
  {
   "cell_type": "markdown",
   "metadata": {},
   "source": [
    "# Preliminaries"
   ]
  },
  {
   "cell_type": "code",
   "execution_count": 1,
   "metadata": {},
   "outputs": [],
   "source": [
    "!rm -f *.pdf"
   ]
  },
  {
   "cell_type": "markdown",
   "metadata": {},
   "source": [
    "<br>\n",
    "\n",
    "### Paths"
   ]
  },
  {
   "cell_type": "code",
   "execution_count": 2,
   "metadata": {
    "tags": []
   },
   "outputs": [],
   "source": [
    "import os\n",
    "import pathlib\n",
    "import sys"
   ]
  },
  {
   "cell_type": "code",
   "execution_count": 3,
   "metadata": {},
   "outputs": [],
   "source": [
    "if not 'google.colab' in str(get_ipython()):\n",
    "    \n",
    "    parts = pathlib.Path(os.getcwd()).parts    \n",
    "    limit = max([index for index, value in enumerate(parts) if value == 'infections'])    \n",
    "    parent = os.path.join(*list(parts[:(limit + 1)]))\n",
    "    \n",
    "    sys.path.append(os.path.join(parent, 'src'))\n"
   ]
  },
  {
   "cell_type": "code",
   "execution_count": 4,
   "metadata": {},
   "outputs": [
    {
     "data": {
      "text/plain": [
       "'J:\\\\library\\\\premodelling\\\\projects\\\\infections'"
      ]
     },
     "execution_count": 4,
     "metadata": {},
     "output_type": "execute_result"
    }
   ],
   "source": [
    "parent"
   ]
  },
  {
   "cell_type": "markdown",
   "metadata": {},
   "source": [
    "<br>\n",
    "<br>\n",
    "\n",
    "### Libraries"
   ]
  },
  {
   "cell_type": "code",
   "execution_count": 5,
   "metadata": {},
   "outputs": [],
   "source": [
    "%matplotlib inline\n",
    "\n",
    "import datetime\n",
    "\n",
    "import logging\n",
    "import collections\n",
    "\n",
    "import numpy as np\n",
    "import pandas as pd\n",
    "\n",
    "import time"
   ]
  },
  {
   "cell_type": "markdown",
   "metadata": {},
   "source": [
    "<br>\n",
    "<br>\n",
    "\n",
    "### Custom"
   ]
  },
  {
   "cell_type": "code",
   "execution_count": 6,
   "metadata": {},
   "outputs": [],
   "source": [
    "import src.preprocessing.interface\n",
    "\n",
    "import src.virus.measures\n",
    "import src.virus.agegroupcases\n",
    "import src.virus.agegroupvaccinations\n",
    "\n",
    "import config"
   ]
  },
  {
   "cell_type": "markdown",
   "metadata": {},
   "source": [
    "<br>\n",
    "\n",
    "Setting-up"
   ]
  },
  {
   "cell_type": "code",
   "execution_count": 7,
   "metadata": {},
   "outputs": [],
   "source": [
    "configurations = config.Config()"
   ]
  },
  {
   "cell_type": "markdown",
   "metadata": {},
   "source": [
    "<br>\n",
    "\n",
    "The coronavirus.data.gov.uk API (application programming interface) data fields that would be extracted per LTLA (lower tier local authority) geographic area, and per NHS Trust, of England. "
   ]
  },
  {
   "cell_type": "code",
   "execution_count": 8,
   "metadata": {},
   "outputs": [],
   "source": [
    "fields_ltla = configurations.fields_ltla\n",
    "fields_trusts = configurations.fields_trust"
   ]
  },
  {
   "cell_type": "markdown",
   "metadata": {},
   "source": [
    "<br>\n",
    "\n",
    "England's unique set of LTLA & NHS Trust codes."
   ]
  },
  {
   "cell_type": "code",
   "execution_count": 9,
   "metadata": {},
   "outputs": [],
   "source": [
    "districts = configurations.districts()\n",
    "codes_ltla = districts.ltla.unique()"
   ]
  },
  {
   "cell_type": "code",
   "execution_count": 10,
   "metadata": {},
   "outputs": [],
   "source": [
    "trusts = configurations.trusts()\n",
    "codes_trusts = trusts.trust_code.unique()"
   ]
  },
  {
   "cell_type": "markdown",
   "metadata": {},
   "source": [
    "<br>\n",
    "<br>\n",
    "\n",
    "### Logging"
   ]
  },
  {
   "cell_type": "code",
   "execution_count": 11,
   "metadata": {},
   "outputs": [],
   "source": [
    "logging.basicConfig(level=logging.INFO,\n",
    "                    format='\\n\\n%(message)s\\n%(asctime)s.%(msecs)03d',\n",
    "                        datefmt='%Y-%m-%d %H:%M:%S')\n",
    "logger = logging.getLogger(__name__)"
   ]
  },
  {
   "cell_type": "markdown",
   "metadata": {},
   "source": [
    "<br>\n",
    "<br>\n",
    "\n",
    "# Part I"
   ]
  },
  {
   "cell_type": "markdown",
   "metadata": {},
   "source": [
    "## Integration, Features Engineering"
   ]
  },
  {
   "cell_type": "markdown",
   "metadata": {},
   "source": [
    "\n",
    "### The Supplementary Data Files"
   ]
  },
  {
   "cell_type": "code",
   "execution_count": 12,
   "metadata": {},
   "outputs": [
    {
     "name": "stderr",
     "output_type": "stream",
     "text": [
      "\n",
      "\n",
      "preprocessing ...\n",
      "2022-03-16 17:06:22.762\n"
     ]
    },
    {
     "name": "stdout",
     "output_type": "stream",
     "text": [
      "\n",
      "districts: \n",
      " ['2020: succeeded', '2019: succeeded', '2018: succeeded', '2017: succeeded', '2016: succeeded', '2015: succeeded']\n",
      "\n",
      "patients: \n",
      " ['2019: succeeded', '2018: succeeded', '2017: succeeded', '2016: succeeded', '2015: succeeded', '2014: succeeded', '2013: succeeded', '2012: succeeded', '2011: succeeded']\n",
      "\n",
      "populations MSOA: \n",
      " ['2012: succeeded', '2013: succeeded', '2014: succeeded', '2015: succeeded', '2016: succeeded', '2017: succeeded', '2018: succeeded', '2019: succeeded', '2020: succeeded']\n",
      "\n",
      "MSOA Populations Disaggregated by Sex & Age Group: \n",
      " ['2012: succeeded', '2013: succeeded', '2014: succeeded', '2015: succeeded', '2016: succeeded', '2017: succeeded', '2018: succeeded', '2019: succeeded', '2020: succeeded']\n",
      "\n",
      "LTLA Populations: \n",
      " ['2012: succeeded', '2013: succeeded', '2014: succeeded', '2015: succeeded', '2016: succeeded', '2017: succeeded', '2018: succeeded', '2019: succeeded', '2020: succeeded']\n",
      "\n",
      "LTLA Populations Disaggregated by Sex & Age Group: \n",
      " ['2011: succeeded', '2012: succeeded', '2013: succeeded', '2014: succeeded', '2015: succeeded', '2016: succeeded', '2017: succeeded', '2018: succeeded', '2019: succeeded', '2020: succeeded']\n",
      "\n",
      "An oddity, the 2011 demographic data: \n",
      " 2011: succeeded\n",
      "\n",
      "Special MSOA populations age group & sex brackets for vaccination data: \n",
      " ['2012: succeeded', '2013: succeeded', '2014: succeeded', '2015: succeeded', '2016: succeeded', '2017: succeeded', '2018: succeeded', '2019: succeeded', '2020: succeeded']\n",
      "\n",
      "Special LTLA age group & sex brackets for vaccination data: \n",
      " ['2012: succeeded', '2013: succeeded', '2014: succeeded', '2015: succeeded', '2016: succeeded', '2017: succeeded', '2018: succeeded', '2019: succeeded', '2020: succeeded']\n"
     ]
    }
   ],
   "source": [
    "times = src.preprocessing.interface.Interface().exc()"
   ]
  },
  {
   "cell_type": "markdown",
   "metadata": {},
   "source": [
    "<br>\n",
    "\n",
    "Delete compute DAG diagrams"
   ]
  },
  {
   "cell_type": "code",
   "execution_count": 13,
   "metadata": {},
   "outputs": [],
   "source": [
    "!rm -f *.pdf"
   ]
  },
  {
   "cell_type": "markdown",
   "metadata": {},
   "source": [
    "<br>\n",
    "\n",
    "Times"
   ]
  },
  {
   "cell_type": "code",
   "execution_count": 14,
   "metadata": {},
   "outputs": [
    {
     "data": {
      "text/html": [
       "<div>\n",
       "<style scoped>\n",
       "    .dataframe tbody tr th:only-of-type {\n",
       "        vertical-align: middle;\n",
       "    }\n",
       "\n",
       "    .dataframe tbody tr th {\n",
       "        vertical-align: top;\n",
       "    }\n",
       "\n",
       "    .dataframe thead th {\n",
       "        text-align: right;\n",
       "    }\n",
       "</style>\n",
       "<table border=\"1\" class=\"dataframe\">\n",
       "  <thead>\n",
       "    <tr style=\"text-align: right;\">\n",
       "      <th></th>\n",
       "      <th>desc</th>\n",
       "      <th>program</th>\n",
       "      <th>seconds</th>\n",
       "    </tr>\n",
       "  </thead>\n",
       "  <tbody>\n",
       "    <tr>\n",
       "      <th>0</th>\n",
       "      <td>districts</td>\n",
       "      <td>preprocessing.districts</td>\n",
       "      <td>2.953169</td>\n",
       "    </tr>\n",
       "    <tr>\n",
       "      <th>1</th>\n",
       "      <td>patients</td>\n",
       "      <td>preprocessing.patients</td>\n",
       "      <td>310.482759</td>\n",
       "    </tr>\n",
       "    <tr>\n",
       "      <th>2</th>\n",
       "      <td>MSOA populations</td>\n",
       "      <td>preprocessing.populationsmsoa</td>\n",
       "      <td>239.203682</td>\n",
       "    </tr>\n",
       "    <tr>\n",
       "      <th>3</th>\n",
       "      <td>MSOA populations: age group &amp; sex brackets</td>\n",
       "      <td>preprocessing.agegroupsexmsoa</td>\n",
       "      <td>3.782216</td>\n",
       "    </tr>\n",
       "    <tr>\n",
       "      <th>4</th>\n",
       "      <td>LTLA populations</td>\n",
       "      <td>preprocessing.populationsltla</td>\n",
       "      <td>3.187182</td>\n",
       "    </tr>\n",
       "    <tr>\n",
       "      <th>5</th>\n",
       "      <td>LTLA populations: age group &amp; sex brackets</td>\n",
       "      <td>preprocessing.agegroupsexltla</td>\n",
       "      <td>2.185125</td>\n",
       "    </tr>\n",
       "    <tr>\n",
       "      <th>6</th>\n",
       "      <td>2011 demographic data</td>\n",
       "      <td>preprocessing.exceptions</td>\n",
       "      <td>4.823276</td>\n",
       "    </tr>\n",
       "    <tr>\n",
       "      <th>7</th>\n",
       "      <td>special MSOA demographics for vac</td>\n",
       "      <td>preprocessing.vaccinationgroupsmsoa</td>\n",
       "      <td>9.573547</td>\n",
       "    </tr>\n",
       "    <tr>\n",
       "      <th>8</th>\n",
       "      <td>special LTLA demographics for vac</td>\n",
       "      <td>preprocessing.vaccinationgroupsltla</td>\n",
       "      <td>2.119121</td>\n",
       "    </tr>\n",
       "  </tbody>\n",
       "</table>\n",
       "</div>"
      ],
      "text/plain": [
       "                                         desc  \\\n",
       "0                                   districts   \n",
       "1                                    patients   \n",
       "2                            MSOA populations   \n",
       "3  MSOA populations: age group & sex brackets   \n",
       "4                            LTLA populations   \n",
       "5  LTLA populations: age group & sex brackets   \n",
       "6                       2011 demographic data   \n",
       "7           special MSOA demographics for vac   \n",
       "8           special LTLA demographics for vac   \n",
       "\n",
       "                               program     seconds  \n",
       "0              preprocessing.districts    2.953169  \n",
       "1               preprocessing.patients  310.482759  \n",
       "2        preprocessing.populationsmsoa  239.203682  \n",
       "3        preprocessing.agegroupsexmsoa    3.782216  \n",
       "4        preprocessing.populationsltla    3.187182  \n",
       "5        preprocessing.agegroupsexltla    2.185125  \n",
       "6             preprocessing.exceptions    4.823276  \n",
       "7  preprocessing.vaccinationgroupsmsoa    9.573547  \n",
       "8  preprocessing.vaccinationgroupsltla    2.119121  "
      ]
     },
     "execution_count": 14,
     "metadata": {},
     "output_type": "execute_result"
    }
   ],
   "source": [
    "pd.DataFrame.from_records(data=times['programs'])"
   ]
  },
  {
   "cell_type": "markdown",
   "metadata": {},
   "source": [
    "<br>\n",
    "<br>\n",
    "\n",
    "### coronavirus.data.gov.uk"
   ]
  },
  {
   "cell_type": "markdown",
   "metadata": {},
   "source": [
    "England's SARS-CoV-2 infections and coronavirus 19 disease measures are acquireable via the United Kingdom's coronavirus.data.gov.uk API.  Four different data sets are of interest, which are read via the 4 steps that follow.  Instead of the 4 steps below you may run"
   ]
  },
  {
   "cell_type": "markdown",
   "metadata": {},
   "source": [
    "> %%bash\n",
    ">\n",
    "> `python src/virus/interface.py`"
   ]
  },
  {
   "cell_type": "markdown",
   "metadata": {},
   "source": [
    " <br>\n",
    " \n",
    " **Lower Tier Local Authority Level Measures**"
   ]
  },
  {
   "cell_type": "markdown",
   "metadata": {},
   "source": [
    "> ```python\n",
    "measures = src.virus.measures.Measures(fields=fields_ltla, path=os.path.join('ltla', 'measures')) \\\n",
    "    .exc(area_codes=codes_ltla, area_type='ltla')\n",
    "logger.info('%d LTLA areas queried.', len(measures))\n",
    "time.sleep(60)\n",
    "```"
   ]
  },
  {
   "cell_type": "markdown",
   "metadata": {},
   "source": [
    "<br>\n",
    "\n",
    "**Trust level measures**"
   ]
  },
  {
   "cell_type": "markdown",
   "metadata": {},
   "source": [
    "> ```python\n",
    "measures = src.virus.measures.Measures(fields=fields_trusts, path=os.path.join('trusts', 'measures')) \\\n",
    "    .exc(area_codes=codes_trusts, area_type='nhsTrust')\n",
    "logger.info('%d NHS Trusts queried.', len(measures))\n",
    "time.sleep(60)\n",
    "```"
   ]
  },
  {
   "cell_type": "markdown",
   "metadata": {},
   "source": [
    "<br>\n",
    "\n",
    "**LTLA Level measures: Cases disaggregated by Age Group**"
   ]
  },
  {
   "cell_type": "markdown",
   "metadata": {},
   "source": [
    "> ```python\n",
    "measures = src.virus.agegroupcases.AgeGroupCases().exc(area_codes=codes_ltla, area_type='ltla')\n",
    "logger.info('%d LTLA areas queried.', len(measures))\n",
    "time.sleep(60)\n",
    "```"
   ]
  },
  {
   "cell_type": "markdown",
   "metadata": {},
   "source": [
    "<br>\n",
    "\n",
    "**LTLA Level measures: Vaccinations disaggregated by Age Group** \n",
    "\n",
    "A few areas do not have any data, albeit their request response status is 200"
   ]
  },
  {
   "cell_type": "markdown",
   "metadata": {},
   "source": [
    "> ```python\n",
    "area_codes = list(set(codes_ltla) - {'E06000053', 'E09000001', 'E06000060'})\n",
    "measures = src.virus.agegroupvaccinations.AgeGroupVaccinations().exc(area_codes=area_codes, area_type='ltla')\n",
    "logger.info('%d LTLA areas queried.', len(measures))\n",
    "```"
   ]
  },
  {
   "cell_type": "markdown",
   "metadata": {},
   "source": [
    "<br>\n",
    "<br>\n",
    "\n",
    "### Weights"
   ]
  },
  {
   "cell_type": "markdown",
   "metadata": {},
   "source": [
    "determining multi-granularity patient flow weights, from LTLA $\\longrightarrow$ NHS Trust, via MSOA $\\longrightarrow$ NHS Trust numbers"
   ]
  },
  {
   "cell_type": "code",
   "execution_count": 15,
   "metadata": {},
   "outputs": [
    {
     "name": "stderr",
     "output_type": "stream",
     "text": [
      "\n",
      "\n",
      "2011\n",
      "2022-03-16 17:16:03.347\n",
      "\n",
      "\n",
      "2011: weights calculated for approx. 139 trusts\n",
      "2022-03-16 17:16:18.710\n",
      "\n",
      "\n",
      "2012\n",
      "2022-03-16 17:16:18.711\n",
      "\n",
      "\n",
      "2012: weights calculated for approx. 140 trusts\n",
      "2022-03-16 17:16:34.802\n",
      "\n",
      "\n",
      "2013\n",
      "2022-03-16 17:16:34.802\n",
      "\n",
      "\n",
      "2013: weights calculated for approx. 140 trusts\n",
      "2022-03-16 17:16:50.659\n",
      "\n",
      "\n",
      "2014\n",
      "2022-03-16 17:16:50.660\n",
      "\n",
      "\n",
      "2014: weights calculated for approx. 140 trusts\n",
      "2022-03-16 17:17:06.765\n",
      "\n",
      "\n",
      "2015\n",
      "2022-03-16 17:17:06.765\n",
      "\n",
      "\n",
      "2015: weights calculated for approx. 140 trusts\n",
      "2022-03-16 17:17:23.361\n",
      "\n",
      "\n",
      "2016\n",
      "2022-03-16 17:17:23.361\n",
      "\n",
      "\n",
      "2016: weights calculated for approx. 140 trusts\n",
      "2022-03-16 17:17:39.943\n",
      "\n",
      "\n",
      "2017\n",
      "2022-03-16 17:17:39.943\n",
      "\n",
      "\n",
      "2017: weights calculated for approx. 140 trusts\n",
      "2022-03-16 17:17:56.586\n",
      "\n",
      "\n",
      "2018\n",
      "2022-03-16 17:17:56.587\n",
      "\n",
      "\n",
      "2018: weights calculated for approx. 140 trusts\n",
      "2022-03-16 17:18:14.064\n",
      "\n",
      "\n",
      "2019\n",
      "2022-03-16 17:18:14.064\n",
      "\n",
      "\n",
      "2019: weights calculated for approx. 140 trusts\n",
      "2022-03-16 17:18:31.446\n",
      "\n",
      "\n",
      "For approx. 140 trusts, a file has been created per trust - it contains the weights data of a trust, for all years.\n",
      "2022-03-16 17:21:34.142\n"
     ]
    }
   ],
   "source": [
    "%%bash\n",
    "\n",
    "python src/catchments/interface.py"
   ]
  },
  {
   "cell_type": "markdown",
   "metadata": {},
   "source": [
    "<br>\n",
    "\n",
    "Delete compute DAG diagrams"
   ]
  },
  {
   "cell_type": "code",
   "execution_count": 16,
   "metadata": {},
   "outputs": [],
   "source": [
    "!rm -f *.pdf"
   ]
  },
  {
   "cell_type": "markdown",
   "metadata": {},
   "source": [
    "<br>\n",
    "<br>\n",
    "\n",
    "### Vaccination Specific Weights"
   ]
  },
  {
   "cell_type": "markdown",
   "metadata": {},
   "source": [
    "determining the vaccinations specific multi-granularity patient flow weights; different because its age groupings/brackets differ from the standard 5 year groupings/brackets"
   ]
  },
  {
   "cell_type": "code",
   "execution_count": 17,
   "metadata": {},
   "outputs": [
    {
     "name": "stderr",
     "output_type": "stream",
     "text": [
      "\n",
      "\n",
      "vaccinations\n",
      "2022-03-16 17:21:35.728\n",
      "\n",
      "\n",
      "2012\n",
      "2022-03-16 17:21:35.728\n",
      "\n",
      "\n",
      "2012: weights calculated for approx. 140 trusts\n",
      "2022-03-16 17:21:52.503\n",
      "\n",
      "\n",
      "2013\n",
      "2022-03-16 17:21:52.503\n",
      "\n",
      "\n",
      "2013: weights calculated for approx. 140 trusts\n",
      "2022-03-16 17:22:08.744\n",
      "\n",
      "\n",
      "2014\n",
      "2022-03-16 17:22:08.745\n",
      "\n",
      "\n",
      "2014: weights calculated for approx. 140 trusts\n",
      "2022-03-16 17:22:25.334\n",
      "\n",
      "\n",
      "2015\n",
      "2022-03-16 17:22:25.335\n",
      "\n",
      "\n",
      "2015: weights calculated for approx. 140 trusts\n",
      "2022-03-16 17:22:41.689\n",
      "\n",
      "\n",
      "2016\n",
      "2022-03-16 17:22:41.689\n",
      "\n",
      "\n",
      "2016: weights calculated for approx. 140 trusts\n",
      "2022-03-16 17:22:58.482\n",
      "\n",
      "\n",
      "2017\n",
      "2022-03-16 17:22:58.483\n",
      "\n",
      "\n",
      "2017: weights calculated for approx. 140 trusts\n",
      "2022-03-16 17:23:14.801\n",
      "\n",
      "\n",
      "2018\n",
      "2022-03-16 17:23:14.802\n",
      "\n",
      "\n",
      "2018: weights calculated for approx. 140 trusts\n",
      "2022-03-16 17:23:32.268\n",
      "\n",
      "\n",
      "2019\n",
      "2022-03-16 17:23:32.268\n",
      "\n",
      "\n",
      "2019: weights calculated for approx. 140 trusts\n",
      "2022-03-16 17:23:50.591\n",
      "\n",
      "\n",
      "For approx. 140 trusts, a file has been created per trust - it contains the weights data of a trust, for all years.\n",
      "2022-03-16 17:26:35.807\n"
     ]
    }
   ],
   "source": [
    "%%bash\n",
    "\n",
    "python src/vaccinations/interface.py"
   ]
  },
  {
   "cell_type": "markdown",
   "metadata": {},
   "source": [
    "<br>\n",
    "<br>\n",
    "\n",
    "### Design Matrix & Outcome Variables"
   ]
  },
  {
   "cell_type": "markdown",
   "metadata": {},
   "source": [
    "\n",
    "Estimating NHS Trust coronavirus measures per NHS Trust BY transforming LTLA measures to weighted NHS Trust Components via the calculated multi-granularity patient flow weights.  Subsequently, a tensor consisting of the raw matrix of independent variables vectors, and the outcome vector is constructed."
   ]
  },
  {
   "cell_type": "code",
   "execution_count": 18,
   "metadata": {},
   "outputs": [
    {
     "name": "stderr",
     "output_type": "stream",
     "text": [
      "\n",
      "\n",
      "(['RTD succeeded', 'RVV succeeded', 'RWA succeeded', 'RJN succeeded', 'RKB succeeded', 'RWG succeeded', 'RQW succeeded', 'RWY succeeded', 'R1K succeeded', 'RAX succeeded', 'RRV succeeded', 'RBN succeeded', 'RCB succeeded', 'RHQ succeeded', 'RXL succeeded', 'RM1 succeeded', 'RP6 succeeded', 'RWF succeeded', 'RTP succeeded', 'RXQ succeeded', 'RTX succeeded', 'RCF succeeded', 'RK9 succeeded', 'RVR succeeded', 'RYR succeeded', 'RWD succeeded', 'RHU succeeded', 'RRJ succeeded', 'REM succeeded', 'RNQ succeeded', 'RHM succeeded', 'RK5 succeeded', 'RGR succeeded', 'RGT succeeded', 'RA4 succeeded', 'RBS succeeded', 'RCX succeeded', 'RTK succeeded', 'RCU succeeded', 'R1F succeeded', 'RN3 succeeded', 'RD1 succeeded', 'RBQ succeeded', 'RP5 succeeded', 'RJL succeeded', 'RLT succeeded', 'RWE succeeded', 'RJ2 succeeded', 'RXN succeeded', 'RJ1 succeeded', 'RM3 succeeded', 'R0B succeeded', 'RL4 succeeded', 'RVW succeeded', 'RGP succeeded', 'RAL succeeded', 'RLQ succeeded', 'RTF succeeded', 'RWW succeeded', 'RMP succeeded', 'RWJ succeeded', 'RXP succeeded', 'RDU succeeded', 'RYJ succeeded', 'REN succeeded', 'REF succeeded', 'RR7 succeeded', 'RJ7 succeeded', 'RMC succeeded', 'R1H succeeded', 'RGM succeeded', 'RJC succeeded', 'RFF succeeded', 'RFR succeeded', 'RQM succeeded', 'RQX succeeded', 'RAJ succeeded', 'RD8 succeeded', 'RWH succeeded', 'RBL succeeded', 'RGN succeeded', 'RPC succeeded', 'RDE succeeded', 'RT3 succeeded', 'RNZ succeeded', 'RX1 succeeded', 'RAS succeeded', 'RNS succeeded', 'RXH succeeded', 'RBK succeeded', 'RBV succeeded', 'RN5 succeeded', 'RH8 succeeded', 'RJ6 succeeded', 'RQ3 succeeded', 'RKE succeeded', 'RN7 succeeded', 'RW6 succeeded', 'RTR succeeded', 'RXR succeeded', 'RRK succeeded', 'RTG succeeded', 'RL1 succeeded', 'RXW succeeded', 'RBZ succeeded', 'RF4 succeeded', 'RBD succeeded', 'RNA succeeded', 'RA2 succeeded', 'RAN succeeded', 'RXF succeeded', 'RA9 succeeded', 'RFS succeeded', 'RPY succeeded', 'RTE succeeded', 'RAE succeeded', 'REP succeeded', 'RR8 succeeded', 'RJZ succeeded', 'RJE succeeded', 'RXC succeeded', 'RA7 succeeded', 'RVY succeeded', 'RRF succeeded', 'RTH succeeded', 'RWP succeeded', 'RVJ succeeded', 'RCD succeeded', 'RAP succeeded', 'RNN succeeded', 'RP4 succeeded', 'RXK succeeded', 'RJR succeeded', 'R0A succeeded', 'R0D succeeded', 'RBT succeeded', 'RET succeeded', 'RPA succeeded', 'RC9 succeeded', 'RHW succeeded'],)\n",
      "2022-03-16 17:31:04.001\n",
      "\n",
      "\n",
      "['a concatenated form of the raw design matrices has been created: graphics\\\\data\\\\disaggregated.csv', 'a concatenated form of the raw design matrices has been created: graphics\\\\data\\\\aggregated.csv', 'a concatenated form of the raw design matrices has been created: graphics\\\\data\\\\raw.csv']\n",
      "2022-03-16 17:31:37.048\n"
     ]
    }
   ],
   "source": [
    "%%bash\n",
    "\n",
    "python src/design/interface.py"
   ]
  },
  {
   "cell_type": "markdown",
   "metadata": {},
   "source": [
    "<br>\n",
    "<br>\n",
    "\n",
    "## Delete DAG Diagrams"
   ]
  },
  {
   "cell_type": "code",
   "execution_count": 19,
   "metadata": {},
   "outputs": [],
   "source": [
    "%%bash\n",
    "\n",
    "rm -rf *.pdf"
   ]
  }
 ],
 "metadata": {
  "kernelspec": {
   "display_name": "Python 3",
   "language": "python",
   "name": "python3"
  },
  "language_info": {
   "codemirror_mode": {
    "name": "ipython",
    "version": 3
   },
   "file_extension": ".py",
   "mimetype": "text/x-python",
   "name": "python",
   "nbconvert_exporter": "python",
   "pygments_lexer": "ipython3",
   "version": "3.7.11"
  }
 },
 "nbformat": 4,
 "nbformat_minor": 4
}
