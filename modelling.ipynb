{
 "cells": [
  {
   "cell_type": "markdown",
   "metadata": {},
   "source": [
    "This notebook is focused on the modelling."
   ]
  },
  {
   "cell_type": "markdown",
   "metadata": {},
   "source": [
    "## Preliminaries"
   ]
  },
  {
   "cell_type": "markdown",
   "metadata": {},
   "source": [
    "### Paths"
   ]
  },
  {
   "cell_type": "code",
   "execution_count": 1,
   "metadata": {
    "tags": []
   },
   "outputs": [],
   "source": [
    "import os\n",
    "import pathlib\n",
    "import sys"
   ]
  },
  {
   "cell_type": "code",
   "execution_count": 2,
   "metadata": {},
   "outputs": [],
   "source": [
    "if not 'google.colab' in str(get_ipython()):\n",
    "    \n",
    "    parts = pathlib.Path(os.getcwd()).parts    \n",
    "    limit = max([index for index, value in enumerate(parts) if value == 'infections'])    \n",
    "    parent = os.path.join(*list(parts[:(limit + 1)]))\n",
    "    \n",
    "    sys.path.append(os.path.join(parent, 'src'))\n"
   ]
  },
  {
   "cell_type": "code",
   "execution_count": 3,
   "metadata": {},
   "outputs": [
    {
     "data": {
      "text/plain": [
       "'J:\\\\library\\\\premodelling\\\\projects\\\\infections'"
      ]
     },
     "execution_count": 3,
     "metadata": {},
     "output_type": "execute_result"
    }
   ],
   "source": [
    "parent"
   ]
  },
  {
   "cell_type": "markdown",
   "metadata": {},
   "source": [
    "<br>\n",
    "<br>\n",
    "\n",
    "### Libraries"
   ]
  },
  {
   "cell_type": "code",
   "execution_count": 4,
   "metadata": {},
   "outputs": [],
   "source": [
    "%matplotlib inline\n",
    "\n",
    "import datetime\n",
    "\n",
    "import logging\n",
    "import collections\n",
    "\n",
    "import numpy as np\n",
    "import pandas as pd\n"
   ]
  },
  {
   "cell_type": "markdown",
   "metadata": {},
   "source": [
    "<br>\n",
    "\n",
    "### Custom"
   ]
  },
  {
   "cell_type": "code",
   "execution_count": 5,
   "metadata": {},
   "outputs": [],
   "source": [
    "import src.modelling.DataStreams\n",
    "import src.modelling.DataReconstructions\n",
    "import src.modelling.Differences\n",
    "import src.modelling.DataNormalisation\n",
    "import src.modelling.Estimates"
   ]
  },
  {
   "cell_type": "markdown",
   "metadata": {},
   "source": [
    "<br>\n",
    "<br>\n",
    "\n",
    "### Logging"
   ]
  },
  {
   "cell_type": "code",
   "execution_count": 6,
   "metadata": {},
   "outputs": [],
   "source": [
    "logging.basicConfig(level=logging.INFO,\n",
    "                    format='\\n\\n%(message)s\\n%(asctime)s.%(msecs)03d',\n",
    "                        datefmt='%Y-%m-%d %H:%M:%S')\n",
    "logger = logging.getLogger(__name__)"
   ]
  },
  {
   "cell_type": "markdown",
   "metadata": {},
   "source": [
    "<br>\n",
    "<br>\n",
    "\n",
    "## Part II"
   ]
  },
  {
   "cell_type": "markdown",
   "metadata": {},
   "source": [
    "### Setting-Up"
   ]
  },
  {
   "cell_type": "markdown",
   "metadata": {},
   "source": [
    "A class for the data splitting fractions"
   ]
  },
  {
   "cell_type": "code",
   "execution_count": 7,
   "metadata": {},
   "outputs": [],
   "source": [
    "Fraction = collections.namedtuple(\n",
    "    typename='Fraction',\n",
    "    field_names=['training', 'validating', 'testing'])"
   ]
  },
  {
   "cell_type": "markdown",
   "metadata": {},
   "source": [
    "<br>\n",
    "\n",
    "**Modelling Arguments**\n",
    "\n",
    "> * Predict `output_steps` days into the future, based on `input_width` days of history\n",
    "\n",
    "Herein\n",
    "\n",
    "* $input\\_width \\in widths$  $\\qquad$  [$widths$ is a range of input window values (days)]\n",
    "* $output\\_steps = 15$ days\n",
    "  \n",
    "And\n",
    "\n",
    "* $label\\_width = output\\_steps$\n"
   ]
  },
  {
   "cell_type": "code",
   "execution_count": 8,
   "metadata": {},
   "outputs": [],
   "source": [
    "Arguments = collections.namedtuple(\n",
    "    typename='Arguments',\n",
    "    field_names=['input_width', 'label_width', 'shift', 'training_', 'validating_', 'testing_', 'label_columns'])"
   ]
  },
  {
   "cell_type": "code",
   "execution_count": 9,
   "metadata": {},
   "outputs": [],
   "source": [
    "widths = range(18, 20)\n",
    "output_steps = 15"
   ]
  },
  {
   "cell_type": "markdown",
   "metadata": {},
   "source": [
    "<br>\n",
    "<br>\n",
    "\n",
    "### Training, Validating, Testing Data"
   ]
  },
  {
   "cell_type": "markdown",
   "metadata": {},
   "source": [
    "Foremost: The data sets for training, validating, and testing"
   ]
  },
  {
   "cell_type": "code",
   "execution_count": 10,
   "metadata": {},
   "outputs": [],
   "source": [
    "training, validating, testing = src.modelling.DataStreams.DataStreams(root=parent, fraction=Fraction._make(\n",
    "        (0.75, 0.15, 0.10))).exc()"
   ]
  },
  {
   "cell_type": "code",
   "execution_count": 11,
   "metadata": {},
   "outputs": [
    {
     "name": "stderr",
     "output_type": "stream",
     "text": [
      "\n",
      "\n",
      "Index(['group', 'date', 'covidOccupiedBeds', 'covidOccupiedMVBeds',\n",
      "       'estimatedNewAdmissions', 'EDC0-4', 'EDC5-9', 'EDC10-14', 'EDC15-19',\n",
      "       'EDC20-24', 'EDC25-29', 'EDC30-34', 'EDC35-39', 'EDC40-44', 'EDC45-49',\n",
      "       'EDC50-54', 'EDC55-59', 'EDC60-64', 'EDC65-69', 'EDC70-74', 'EDC75-79',\n",
      "       'EDC80-84', 'EDC85-89', 'EDC90+', 'newDeaths28DaysByDeathDate',\n",
      "       'EDV12-15', 'EDV16-17', 'EDV18-24', 'EDV25-29', 'EDV30-34', 'EDV35-39',\n",
      "       'EDV40-44', 'EDV45-49', 'EDV50-54', 'EDV55-59', 'EDV60-64', 'EDV65-69',\n",
      "       'EDV70-74', 'EDV75-79', 'EDV80-84', 'EDV85-89', 'EDV90+'],\n",
      "      dtype='object')\n",
      "2022-03-16 17:46:26.647\n"
     ]
    }
   ],
   "source": [
    "logger.info(training.columns)"
   ]
  },
  {
   "cell_type": "markdown",
   "metadata": {},
   "source": [
    "<br>\n",
    "<br>\n",
    "\n",
    "### Reconstruction"
   ]
  },
  {
   "cell_type": "markdown",
   "metadata": {},
   "source": [
    "Reconstructions: Each data set is a concatenation of records from various NHS Trusts, however because the aim is a single predicting/forecasting model for all trusts, the data should be reconstructed ..."
   ]
  },
  {
   "cell_type": "code",
   "execution_count": 12,
   "metadata": {},
   "outputs": [],
   "source": [
    "reconstructions = src.modelling.DataReconstructions.DataReconstructions()\n",
    "training = reconstructions.exc(blob=training)\n",
    "validating = reconstructions.exc(blob=validating)\n",
    "testing = reconstructions.exc(blob=testing)"
   ]
  },
  {
   "cell_type": "markdown",
   "metadata": {},
   "source": [
    "<br>\n",
    "<br>\n",
    "\n",
    "### Differences"
   ]
  },
  {
   "cell_type": "markdown",
   "metadata": {},
   "source": [
    "Using difference values rather than actual values"
   ]
  },
  {
   "cell_type": "code",
   "execution_count": 13,
   "metadata": {},
   "outputs": [],
   "source": [
    "differences = src.modelling.Differences.Differences()\n",
    "training = differences.exc(blob=training)\n",
    "validating = differences.exc(blob=validating)\n",
    "testing = differences.exc(blob=testing)"
   ]
  },
  {
   "cell_type": "markdown",
   "metadata": {},
   "source": [
    "<br>\n",
    "<br>\n",
    "\n",
    "### Normalisation"
   ]
  },
  {
   "cell_type": "code",
   "execution_count": 14,
   "metadata": {},
   "outputs": [],
   "source": [
    "normalisation = src.modelling.DataNormalisation.DataNormalisation(reference=training)\n",
    "training_ = normalisation.normalise(blob=training)\n",
    "validating_ = normalisation.normalise(blob=validating)\n",
    "testing_ = normalisation.normalise(blob=testing)\n",
    "\n",
    "training_.drop(columns='point', inplace=True)\n",
    "validating_.drop(columns='point', inplace=True)\n",
    "testing_.drop(columns='point', inplace=True)"
   ]
  },
  {
   "cell_type": "markdown",
   "metadata": {},
   "source": [
    "<br>\n",
    "<br>\n",
    "\n",
    "### Modelling"
   ]
  },
  {
   "cell_type": "code",
   "execution_count": 15,
   "metadata": {},
   "outputs": [
    {
     "name": "stdout",
     "output_type": "stream",
     "text": [
      "Epoch 1/100\n",
      "2423/2423 [==============================] - 13s 5ms/step - loss: 8.3478 - mean_absolute_error: 0.9584 - val_loss: 0.5601 - val_mean_absolute_error: 0.5371\n",
      "Epoch 2/100\n",
      "2423/2423 [==============================] - 12s 5ms/step - loss: 1.0853 - mean_absolute_error: 0.5550 - val_loss: 0.5710 - val_mean_absolute_error: 0.5377\n",
      "Epoch 3/100\n",
      "2423/2423 [==============================] - 12s 5ms/step - loss: 1.1728 - mean_absolute_error: 0.5749 - val_loss: 0.5403 - val_mean_absolute_error: 0.5230\n",
      "Epoch 4/100\n",
      "2423/2423 [==============================] - 13s 6ms/step - loss: 1.0901 - mean_absolute_error: 0.5565 - val_loss: 0.5377 - val_mean_absolute_error: 0.5212\n",
      "Epoch 5/100\n",
      "2423/2423 [==============================] - 12s 5ms/step - loss: 1.1509 - mean_absolute_error: 0.5571 - val_loss: 0.5351 - val_mean_absolute_error: 0.5194\n",
      "Epoch 6/100\n",
      "2423/2423 [==============================] - 12s 5ms/step - loss: 1.0568 - mean_absolute_error: 0.5419 - val_loss: 0.5272 - val_mean_absolute_error: 0.5141\n",
      "Epoch 7/100\n",
      "2423/2423 [==============================] - 12s 5ms/step - loss: 1.1254 - mean_absolute_error: 0.5557 - val_loss: 0.5317 - val_mean_absolute_error: 0.5179\n",
      "Epoch 8/100\n",
      "2423/2423 [==============================] - 12s 5ms/step - loss: 1.0136 - mean_absolute_error: 0.5219 - val_loss: 0.5323 - val_mean_absolute_error: 0.5160\n",
      "Epoch 9/100\n",
      "2423/2423 [==============================] - 12s 5ms/step - loss: 1.3241 - mean_absolute_error: 0.6012 - val_loss: 0.5449 - val_mean_absolute_error: 0.5264\n",
      "Epoch 10/100\n",
      "2423/2423 [==============================] - 12s 5ms/step - loss: 1.0045 - mean_absolute_error: 0.5182 - val_loss: 0.5319 - val_mean_absolute_error: 0.5176\n",
      "Epoch 11/100\n",
      "2423/2423 [==============================] - 13s 5ms/step - loss: 1.1623 - mean_absolute_error: 0.5652 - val_loss: 0.5420 - val_mean_absolute_error: 0.5237\n",
      "Epoch 12/100\n",
      "2423/2423 [==============================] - 13s 5ms/step - loss: 1.0090 - mean_absolute_error: 0.5204 - val_loss: 0.5343 - val_mean_absolute_error: 0.5185\n",
      "Epoch 13/100\n",
      "2423/2423 [==============================] - 13s 5ms/step - loss: 1.1214 - mean_absolute_error: 0.5564 - val_loss: 0.5434 - val_mean_absolute_error: 0.5249\n",
      "Epoch 14/100\n",
      "2423/2423 [==============================] - 13s 5ms/step - loss: 1.0042 - mean_absolute_error: 0.5236 - val_loss: 0.5375 - val_mean_absolute_error: 0.5206\n",
      "Epoch 15/100\n",
      "2423/2423 [==============================] - 13s 5ms/step - loss: 1.1923 - mean_absolute_error: 0.5764 - val_loss: 0.5543 - val_mean_absolute_error: 0.5319\n",
      "Epoch 1/100\n",
      "2423/2423 [==============================] - 30s 11ms/step - loss: 0.9989 - mean_absolute_error: 0.5065 - val_loss: 0.5180 - val_mean_absolute_error: 0.5051\n",
      "Epoch 2/100\n",
      "2423/2423 [==============================] - 25s 10ms/step - loss: 0.9976 - mean_absolute_error: 0.5073 - val_loss: 0.5180 - val_mean_absolute_error: 0.5058\n",
      "Epoch 3/100\n",
      "2423/2423 [==============================] - 25s 10ms/step - loss: 0.9964 - mean_absolute_error: 0.5082 - val_loss: 0.5180 - val_mean_absolute_error: 0.5068\n",
      "Epoch 4/100\n",
      "2423/2423 [==============================] - 26s 11ms/step - loss: 0.9948 - mean_absolute_error: 0.5095 - val_loss: 0.5186 - val_mean_absolute_error: 0.5081\n",
      "Epoch 5/100\n",
      "2423/2423 [==============================] - 25s 10ms/step - loss: 0.9926 - mean_absolute_error: 0.5104 - val_loss: 0.5197 - val_mean_absolute_error: 0.5099\n",
      "Epoch 6/100\n",
      "2423/2423 [==============================] - 29s 12ms/step - loss: 0.9896 - mean_absolute_error: 0.5112 - val_loss: 0.5217 - val_mean_absolute_error: 0.5122\n",
      "Epoch 7/100\n",
      "2423/2423 [==============================] - 28s 12ms/step - loss: 0.9857 - mean_absolute_error: 0.5119 - val_loss: 0.5236 - val_mean_absolute_error: 0.5143\n",
      "Epoch 8/100\n",
      "2423/2423 [==============================] - 28s 12ms/step - loss: 0.9805 - mean_absolute_error: 0.5126 - val_loss: 0.5261 - val_mean_absolute_error: 0.5166\n",
      "Epoch 9/100\n",
      "2423/2423 [==============================] - 29s 12ms/step - loss: 0.9769 - mean_absolute_error: 0.5133 - val_loss: 0.5297 - val_mean_absolute_error: 0.5196\n",
      "Epoch 10/100\n",
      "2423/2423 [==============================] - 33s 13ms/step - loss: 0.9723 - mean_absolute_error: 0.5135 - val_loss: 0.5314 - val_mean_absolute_error: 0.5210\n",
      "Epoch 11/100\n",
      "2423/2423 [==============================] - 28s 12ms/step - loss: 0.9674 - mean_absolute_error: 0.5136 - val_loss: 0.5320 - val_mean_absolute_error: 0.5216\n",
      "Epoch 1/100\n",
      "2423/2423 [==============================] - 16s 6ms/step - loss: 7.0973 - mean_absolute_error: 1.0126 - val_loss: 0.5790 - val_mean_absolute_error: 0.5429\n",
      "Epoch 2/100\n",
      "2423/2423 [==============================] - 16s 6ms/step - loss: 1.0970 - mean_absolute_error: 0.5632 - val_loss: 0.5343 - val_mean_absolute_error: 0.5210\n",
      "Epoch 3/100\n",
      "2423/2423 [==============================] - 16s 7ms/step - loss: 1.0462 - mean_absolute_error: 0.5445 - val_loss: 0.5284 - val_mean_absolute_error: 0.5159\n",
      "Epoch 4/100\n",
      "2423/2423 [==============================] - 15s 6ms/step - loss: 1.0499 - mean_absolute_error: 0.5391 - val_loss: 0.5255 - val_mean_absolute_error: 0.5127\n",
      "Epoch 5/100\n",
      "2423/2423 [==============================] - 15s 6ms/step - loss: 1.0838 - mean_absolute_error: 0.5422 - val_loss: 0.5298 - val_mean_absolute_error: 0.5142\n",
      "Epoch 6/100\n",
      "2423/2423 [==============================] - 15s 6ms/step - loss: 1.3653 - mean_absolute_error: 0.6189 - val_loss: 0.5813 - val_mean_absolute_error: 0.5461\n",
      "Epoch 7/100\n",
      "2423/2423 [==============================] - 15s 6ms/step - loss: 1.0420 - mean_absolute_error: 0.5327 - val_loss: 0.5592 - val_mean_absolute_error: 0.5286\n",
      "Epoch 8/100\n",
      "2423/2423 [==============================] - 20s 8ms/step - loss: 1.1571 - mean_absolute_error: 0.5618 - val_loss: 0.5481 - val_mean_absolute_error: 0.5271\n",
      "Epoch 9/100\n",
      "2423/2423 [==============================] - 21s 9ms/step - loss: 1.0414 - mean_absolute_error: 0.5333 - val_loss: 0.5298 - val_mean_absolute_error: 0.5149\n",
      "Epoch 10/100\n",
      "2423/2423 [==============================] - 19s 8ms/step - loss: 1.0771 - mean_absolute_error: 0.5441 - val_loss: 0.5297 - val_mean_absolute_error: 0.5151\n",
      "Epoch 11/100\n",
      "2423/2423 [==============================] - 18s 7ms/step - loss: 1.2486 - mean_absolute_error: 0.5846 - val_loss: 0.5504 - val_mean_absolute_error: 0.5290\n",
      "Epoch 12/100\n",
      "2423/2423 [==============================] - 18s 7ms/step - loss: 1.0368 - mean_absolute_error: 0.5311 - val_loss: 0.5366 - val_mean_absolute_error: 0.5194\n",
      "Epoch 13/100\n",
      "2423/2423 [==============================] - 16s 7ms/step - loss: 1.5313 - mean_absolute_error: 0.6363 - val_loss: 0.6089 - val_mean_absolute_error: 0.5548\n",
      "Epoch 1/100\n",
      "2423/2423 [==============================] - 38s 14ms/step - loss: 0.9990 - mean_absolute_error: 0.5065 - val_loss: 0.5180 - val_mean_absolute_error: 0.5052\n",
      "Epoch 2/100\n",
      "2423/2423 [==============================] - 32s 13ms/step - loss: 0.9976 - mean_absolute_error: 0.5075 - val_loss: 0.5182 - val_mean_absolute_error: 0.5060\n",
      "Epoch 3/100\n",
      "2423/2423 [==============================] - 33s 14ms/step - loss: 0.9962 - mean_absolute_error: 0.5083 - val_loss: 0.5179 - val_mean_absolute_error: 0.5074\n",
      "Epoch 4/100\n",
      "2423/2423 [==============================] - 48s 20ms/step - loss: 0.9945 - mean_absolute_error: 0.5092 - val_loss: 0.5184 - val_mean_absolute_error: 0.5086\n",
      "Epoch 5/100\n",
      "2423/2423 [==============================] - 39s 16ms/step - loss: 0.9930 - mean_absolute_error: 0.5100 - val_loss: 0.5198 - val_mean_absolute_error: 0.5105\n",
      "Epoch 6/100\n",
      "2423/2423 [==============================] - 40s 16ms/step - loss: 0.9910 - mean_absolute_error: 0.5108 - val_loss: 0.5213 - val_mean_absolute_error: 0.5123\n",
      "Epoch 7/100\n",
      "2423/2423 [==============================] - 43s 18ms/step - loss: 0.9873 - mean_absolute_error: 0.5117 - val_loss: 0.5233 - val_mean_absolute_error: 0.5140\n",
      "Epoch 8/100\n",
      "2423/2423 [==============================] - 41s 17ms/step - loss: 0.9829 - mean_absolute_error: 0.5124 - val_loss: 0.5257 - val_mean_absolute_error: 0.5161\n",
      "Epoch 9/100\n",
      "2423/2423 [==============================] - 34s 14ms/step - loss: 0.9783 - mean_absolute_error: 0.5129 - val_loss: 0.5284 - val_mean_absolute_error: 0.5186\n",
      "Epoch 10/100\n",
      "2423/2423 [==============================] - 34s 14ms/step - loss: 0.9735 - mean_absolute_error: 0.5135 - val_loss: 0.5314 - val_mean_absolute_error: 0.5208\n",
      "Epoch 11/100\n",
      "2423/2423 [==============================] - 35s 14ms/step - loss: 0.9691 - mean_absolute_error: 0.5140 - val_loss: 0.5352 - val_mean_absolute_error: 0.5240\n",
      "Epoch 12/100\n",
      "2423/2423 [==============================] - 34s 14ms/step - loss: 0.9650 - mean_absolute_error: 0.5143 - val_loss: 0.5378 - val_mean_absolute_error: 0.5257\n"
     ]
    },
    {
     "name": "stderr",
     "output_type": "stream",
     "text": [
      "\n",
      "\n",
      "  method history ahead      loss       mae\n",
      "0    CNN      18    15   0.55426  0.531915\n",
      "1   LSTM      18    15  0.531987  0.521566\n",
      "2    CNN      19    15  0.608863   0.55482\n",
      "3   LSTM      19    15  0.537783  0.525687\n",
      "2022-03-16 18:06:16.238\n",
      "\n",
      "\n",
      "  method history ahead      loss       mae\n",
      "0    CNN      18    15  0.791428  0.370899\n",
      "1   LSTM      18    15  0.678758  0.331206\n",
      "2    CNN      19    15   1.27334  0.467748\n",
      "3   LSTM      19    15  0.689945   0.33892\n",
      "2022-03-16 18:06:16.250\n"
     ]
    }
   ],
   "source": [
    "arguments = Arguments(input_width=None, label_width=output_steps, shift=output_steps,\n",
    "                      training_=training_, validating_=validating_, testing_=testing_,\n",
    "                      label_columns=['estimatedNewAdmissions'])\n",
    "\n",
    "validations, tests = src.modelling.Estimates.Estimates(\n",
    "    n_features=training_.shape[1], \n",
    "    output_steps=output_steps).exc(widths=widths, arguments=arguments)\n",
    "\n",
    "logger.info(validations)\n",
    "logger.info(tests)"
   ]
  },
  {
   "cell_type": "markdown",
   "metadata": {},
   "source": [
    "<br>\n",
    "<br>\n",
    "\n",
    "### Delete DAG Diagrams"
   ]
  },
  {
   "cell_type": "code",
   "execution_count": 16,
   "metadata": {},
   "outputs": [],
   "source": [
    "%%bash\n",
    "\n",
    "rm -rf *.pdf"
   ]
  }
 ],
 "metadata": {
  "kernelspec": {
   "display_name": "Python 3",
   "language": "python",
   "name": "python3"
  },
  "language_info": {
   "codemirror_mode": {
    "name": "ipython",
    "version": 3
   },
   "file_extension": ".py",
   "mimetype": "text/x-python",
   "name": "python",
   "nbconvert_exporter": "python",
   "pygments_lexer": "ipython3",
   "version": "3.7.11"
  }
 },
 "nbformat": 4,
 "nbformat_minor": 4
}
