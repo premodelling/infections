{
 "cells": [
  {
   "cell_type": "markdown",
   "metadata": {},
   "source": [
    "## Preliminaries"
   ]
  },
  {
   "cell_type": "markdown",
   "metadata": {},
   "source": [
    "### Paths"
   ]
  },
  {
   "cell_type": "code",
   "execution_count": 4,
   "metadata": {
    "tags": []
   },
   "outputs": [],
   "source": [
    "import os\n",
    "import pathlib\n",
    "import sys"
   ]
  },
  {
   "cell_type": "code",
   "execution_count": 5,
   "metadata": {},
   "outputs": [],
   "source": [
    "if not 'google.colab' in str(get_ipython()):\n",
    "    \n",
    "    parts = pathlib.Path(os.getcwd()).parts    \n",
    "    limit = max([index for index, value in enumerate(parts) if value == 'infections'])    \n",
    "    parent = os.path.join(*list(parts[:(limit + 1)]))\n",
    "    \n",
    "    sys.path.append(os.path.join(parent, 'src'))\n"
   ]
  },
  {
   "cell_type": "code",
   "execution_count": 6,
   "metadata": {},
   "outputs": [
    {
     "data": {
      "text/plain": [
       "'J:\\\\library\\\\premodelling\\\\projects\\\\infections'"
      ]
     },
     "execution_count": 6,
     "metadata": {},
     "output_type": "execute_result"
    }
   ],
   "source": [
    "parent"
   ]
  },
  {
   "cell_type": "markdown",
   "metadata": {},
   "source": [
    "<br>\n",
    "<br>\n",
    "\n",
    "### Libraries"
   ]
  },
  {
   "cell_type": "code",
   "execution_count": null,
   "metadata": {},
   "outputs": [],
   "source": [
    "%matplotlib inline\n",
    "\n",
    "import datetime\n",
    "\n",
    "import logging\n",
    "import collections\n",
    "\n",
    "import numpy as np\n",
    "import pandas as pd\n"
   ]
  },
  {
   "cell_type": "markdown",
   "metadata": {},
   "source": [
    "<br>\n",
    "\n",
    "### Custom"
   ]
  },
  {
   "cell_type": "code",
   "execution_count": null,
   "metadata": {},
   "outputs": [],
   "source": [
    "import src.modelling.DataStreams\n",
    "import src.modelling.DataReconstructions\n",
    "import src.modelling.Differences\n",
    "import src.modelling.DataNormalisation\n",
    "import src.modelling.Estimates"
   ]
  },
  {
   "cell_type": "markdown",
   "metadata": {},
   "source": [
    "<br>\n",
    "<br>\n",
    "\n",
    "### Logging"
   ]
  },
  {
   "cell_type": "code",
   "execution_count": null,
   "metadata": {},
   "outputs": [],
   "source": [
    "logging.basicConfig(level=logging.INFO,\n",
    "                    format='\\n\\n%(message)s\\n%(asctime)s.%(msecs)03d',\n",
    "                        datefmt='%Y-%m-%d %H:%M:%S')\n",
    "logger = logging.getLogger(__name__)"
   ]
  },
  {
   "cell_type": "markdown",
   "metadata": {},
   "source": [
    "<br>\n",
    "<br>\n",
    "\n",
    "## Part II"
   ]
  },
  {
   "cell_type": "markdown",
   "metadata": {},
   "source": [
    "### Setting-Up"
   ]
  },
  {
   "cell_type": "markdown",
   "metadata": {},
   "source": [
    "A class for the data splitting fractions"
   ]
  },
  {
   "cell_type": "code",
   "execution_count": null,
   "metadata": {},
   "outputs": [],
   "source": [
    "Fraction = collections.namedtuple(\n",
    "    typename='Fraction',\n",
    "    field_names=['training', 'validating', 'testing'])"
   ]
  },
  {
   "cell_type": "markdown",
   "metadata": {},
   "source": [
    "<br>\n",
    "\n",
    "**Modelling Arguments**\n",
    "\n",
    "> * Predict `output_steps` days into the future, based on `input_width` days of history\n",
    "\n",
    "Herein\n",
    "\n",
    "* $input\\_width \\in widths$  $\\qquad$  [$widths$ is a range of input window values (days)]\n",
    "* $output\\_steps = 15$ days\n",
    "  \n",
    "And\n",
    "\n",
    "* $label\\_width = output\\_steps$\n"
   ]
  },
  {
   "cell_type": "code",
   "execution_count": null,
   "metadata": {},
   "outputs": [],
   "source": [
    "Arguments = collections.namedtuple(\n",
    "    typename='Arguments',\n",
    "    field_names=['input_width', 'label_width', 'shift', 'training_', 'validating_', 'testing_', 'label_columns'])"
   ]
  },
  {
   "cell_type": "code",
   "execution_count": null,
   "metadata": {},
   "outputs": [],
   "source": [
    "widths = range(18, 40)\n",
    "output_steps = 15"
   ]
  },
  {
   "cell_type": "markdown",
   "metadata": {},
   "source": [
    "<br>\n",
    "<br>\n",
    "\n",
    "### Training, Validating, Testing Data"
   ]
  },
  {
   "cell_type": "markdown",
   "metadata": {},
   "source": [
    "Foremost: The data sets for training, validating, and testing"
   ]
  },
  {
   "cell_type": "code",
   "execution_count": null,
   "metadata": {},
   "outputs": [],
   "source": [
    "training, validating, testing = src.modelling.DataStreams.DataStreams(root=parent, fraction=Fraction._make(\n",
    "        (0.75, 0.15, 0.10))).exc()"
   ]
  },
  {
   "cell_type": "code",
   "execution_count": null,
   "metadata": {},
   "outputs": [],
   "source": [
    "logger.info(training.columns)"
   ]
  },
  {
   "cell_type": "markdown",
   "metadata": {},
   "source": [
    "<br>\n",
    "<br>\n",
    "\n",
    "### Reconstruction"
   ]
  },
  {
   "cell_type": "markdown",
   "metadata": {},
   "source": [
    "Reconstructions: Each data set is a concatenation of records from various NHS Trusts, however because the aim is a single predicting/forecasting model for all trusts, the data should be reconstructed ..."
   ]
  },
  {
   "cell_type": "code",
   "execution_count": null,
   "metadata": {},
   "outputs": [],
   "source": [
    "reconstructions = src.modelling.DataReconstructions.DataReconstructions()\n",
    "training = reconstructions.exc(blob=training)\n",
    "validating = reconstructions.exc(blob=validating)\n",
    "testing = reconstructions.exc(blob=testing)"
   ]
  },
  {
   "cell_type": "markdown",
   "metadata": {},
   "source": [
    "<br>\n",
    "<br>\n",
    "\n",
    "### Differences"
   ]
  },
  {
   "cell_type": "markdown",
   "metadata": {},
   "source": [
    "Using difference values rather than actual values"
   ]
  },
  {
   "cell_type": "code",
   "execution_count": null,
   "metadata": {},
   "outputs": [],
   "source": [
    "differences = src.modelling.Differences.Differences()\n",
    "training = differences.exc(blob=training)\n",
    "validating = differences.exc(blob=validating)\n",
    "testing = differences.exc(blob=testing)"
   ]
  },
  {
   "cell_type": "markdown",
   "metadata": {},
   "source": [
    "<br>\n",
    "<br>\n",
    "\n",
    "### Normalisation"
   ]
  },
  {
   "cell_type": "code",
   "execution_count": null,
   "metadata": {},
   "outputs": [],
   "source": [
    "normalisation = src.modelling.DataNormalisation.DataNormalisation(reference=training)\n",
    "training_ = normalisation.normalise(blob=training)\n",
    "validating_ = normalisation.normalise(blob=validating)\n",
    "testing_ = normalisation.normalise(blob=testing)\n",
    "\n",
    "training_.drop(columns='point', inplace=True)\n",
    "validating_.drop(columns='point', inplace=True)\n",
    "testing_.drop(columns='point', inplace=True)"
   ]
  },
  {
   "cell_type": "markdown",
   "metadata": {},
   "source": [
    "<br>\n",
    "<br>\n",
    "\n",
    "### Modelling"
   ]
  },
  {
   "cell_type": "code",
   "execution_count": null,
   "metadata": {},
   "outputs": [],
   "source": [
    "arguments = Arguments(input_width=None, label_width=output_steps, shift=output_steps,\n",
    "                      training_=training_, validating_=validating_, testing_=testing_,\n",
    "                      label_columns=['estimatedNewAdmissions'])\n",
    "\n",
    "validations, tests = src.modelling.Estimates.Estimates(\n",
    "    n_features=training_.shape[1], \n",
    "    output_steps=output_steps).exc(widths=widths, arguments=arguments)\n",
    "\n",
    "logger.info(validations)\n",
    "logger.info(tests)"
   ]
  },
  {
   "cell_type": "markdown",
   "metadata": {},
   "source": [
    "<br>\n",
    "<br>\n",
    "\n",
    "### Delete DAG Diagrams"
   ]
  },
  {
   "cell_type": "code",
   "execution_count": null,
   "metadata": {},
   "outputs": [],
   "source": [
    "%%bash\n",
    "\n",
    "rm -rf *.pdf"
   ]
  }
 ],
 "metadata": {
  "kernelspec": {
   "display_name": "Python 3",
   "language": "python",
   "name": "python3"
  },
  "language_info": {
   "codemirror_mode": {
    "name": "ipython",
    "version": 3
   },
   "file_extension": ".py",
   "mimetype": "text/x-python",
   "name": "python",
   "nbconvert_exporter": "python",
   "pygments_lexer": "ipython3",
   "version": "3.7.11"
  }
 },
 "nbformat": 4,
 "nbformat_minor": 4
}
