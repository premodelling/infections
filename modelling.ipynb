{
 "cells": [
  {
   "cell_type": "markdown",
   "metadata": {},
   "source": [
    "This notebook is focused on the modelling aspect of the project.  It predominantly depends on the modules of [src/modelling](./src/modelling).\n",
    "\n",
    "<br>"
   ]
  },
  {
   "cell_type": "markdown",
   "metadata": {},
   "source": [
    "## Preliminaries"
   ]
  },
  {
   "cell_type": "markdown",
   "metadata": {},
   "source": [
    "### Paths"
   ]
  },
  {
   "cell_type": "code",
   "execution_count": 1,
   "metadata": {
    "tags": []
   },
   "outputs": [],
   "source": [
    "import os\n",
    "import pathlib\n",
    "import sys"
   ]
  },
  {
   "cell_type": "code",
   "execution_count": 2,
   "metadata": {},
   "outputs": [],
   "source": [
    "if not 'google.colab' in str(get_ipython()):\n",
    "    \n",
    "    parts = pathlib.Path(os.getcwd()).parts    \n",
    "    limit = max([index for index, value in enumerate(parts) if value == 'infections'])    \n",
    "    parent = os.path.join(*list(parts[:(limit + 1)]))\n",
    "    \n",
    "    sys.path.append(os.path.join(parent, 'src'))\n"
   ]
  },
  {
   "cell_type": "code",
   "execution_count": 3,
   "metadata": {},
   "outputs": [
    {
     "data": {
      "text/plain": [
       "'J:\\\\library\\\\premodelling\\\\projects\\\\infections'"
      ]
     },
     "execution_count": 3,
     "metadata": {},
     "output_type": "execute_result"
    }
   ],
   "source": [
    "parent"
   ]
  },
  {
   "cell_type": "markdown",
   "metadata": {},
   "source": [
    "<br>\n",
    "<br>\n",
    "\n",
    "### Libraries"
   ]
  },
  {
   "cell_type": "code",
   "execution_count": 4,
   "metadata": {},
   "outputs": [],
   "source": [
    "%matplotlib inline\n",
    "\n",
    "import datetime\n",
    "\n",
    "import logging\n",
    "import collections\n",
    "\n",
    "import numpy as np\n",
    "import pandas as pd\n"
   ]
  },
  {
   "cell_type": "markdown",
   "metadata": {},
   "source": [
    "<br>\n",
    "\n",
    "### Custom"
   ]
  },
  {
   "cell_type": "code",
   "execution_count": 5,
   "metadata": {},
   "outputs": [],
   "source": [
    "import src.modelling.DataStreams\n",
    "import src.modelling.DataReconstructions\n",
    "import src.modelling.Differences\n",
    "import src.modelling.DataNormalisation\n",
    "import src.modelling.Estimates"
   ]
  },
  {
   "cell_type": "markdown",
   "metadata": {},
   "source": [
    "<br>\n",
    "<br>\n",
    "\n",
    "### Logging"
   ]
  },
  {
   "cell_type": "code",
   "execution_count": 6,
   "metadata": {},
   "outputs": [],
   "source": [
    "logging.basicConfig(level=logging.INFO,\n",
    "                    format='\\n\\n%(message)s\\n%(asctime)s.%(msecs)03d',\n",
    "                        datefmt='%Y-%m-%d %H:%M:%S')\n",
    "logger = logging.getLogger(__name__)"
   ]
  },
  {
   "cell_type": "markdown",
   "metadata": {},
   "source": [
    "<br>\n",
    "<br>\n",
    "\n",
    "## Part II"
   ]
  },
  {
   "cell_type": "markdown",
   "metadata": {},
   "source": [
    "### Setting-Up"
   ]
  },
  {
   "cell_type": "markdown",
   "metadata": {},
   "source": [
    "A class for the data splitting fractions"
   ]
  },
  {
   "cell_type": "code",
   "execution_count": 7,
   "metadata": {},
   "outputs": [],
   "source": [
    "Fraction = collections.namedtuple(\n",
    "    typename='Fraction',\n",
    "    field_names=['training', 'validating', 'testing'])"
   ]
  },
  {
   "cell_type": "markdown",
   "metadata": {},
   "source": [
    "<br>\n",
    "\n",
    "**Modelling Arguments**\n",
    "\n",
    "> * Predict `output_steps` days into the future, based on `input_width` days of history\n",
    "\n",
    "Herein\n",
    "\n",
    "* $input\\_width \\in widths$  $\\qquad$  [$widths$ is a range of input window values (days)]\n",
    "* $output\\_steps = 15$ days\n",
    "  \n",
    "And\n",
    "\n",
    "* $label\\_width = output\\_steps$\n"
   ]
  },
  {
   "cell_type": "code",
   "execution_count": 8,
   "metadata": {},
   "outputs": [],
   "source": [
    "Arguments = collections.namedtuple(\n",
    "    typename='Arguments',\n",
    "    field_names=['input_width', 'label_width', 'shift', 'training_', 'validating_', 'testing_', 'label_columns'])"
   ]
  },
  {
   "cell_type": "markdown",
   "metadata": {},
   "source": [
    "<br>\n",
    "\n",
    "Vary the widths' range as required."
   ]
  },
  {
   "cell_type": "code",
   "execution_count": 9,
   "metadata": {},
   "outputs": [],
   "source": [
    "widths = range(18, 23)\n",
    "output_steps = 15"
   ]
  },
  {
   "cell_type": "markdown",
   "metadata": {},
   "source": [
    "<br>\n",
    "<br>\n",
    "\n",
    "### Training, Validating, Testing Data"
   ]
  },
  {
   "cell_type": "markdown",
   "metadata": {},
   "source": [
    "Foremost: The data sets for training, validating, and testing"
   ]
  },
  {
   "cell_type": "code",
   "execution_count": 10,
   "metadata": {},
   "outputs": [],
   "source": [
    "training, validating, testing = src.modelling.DataStreams.DataStreams(root=parent, fraction=Fraction._make(\n",
    "        (0.75, 0.15, 0.10))).exc()"
   ]
  },
  {
   "cell_type": "code",
   "execution_count": 11,
   "metadata": {},
   "outputs": [
    {
     "name": "stderr",
     "output_type": "stream",
     "text": [
      "\n",
      "\n",
      "Index(['group', 'date', 'covidOccupiedBeds', 'covidOccupiedMVBeds',\n",
      "       'estimatedNewAdmissions', 'EDC0-4', 'EDC5-9', 'EDC10-14', 'EDC15-19',\n",
      "       'EDC20-24', 'EDC25-29', 'EDC30-34', 'EDC35-39', 'EDC40-44', 'EDC45-49',\n",
      "       'EDC50-54', 'EDC55-59', 'EDC60-64', 'EDC65-69', 'EDC70-74', 'EDC75-79',\n",
      "       'EDC80-84', 'EDC85-89', 'EDC90+', 'newDeaths28DaysByDeathDate',\n",
      "       'EDV12-15', 'EDV16-17', 'EDV18-24', 'EDV25-29', 'EDV30-34', 'EDV35-39',\n",
      "       'EDV40-44', 'EDV45-49', 'EDV50-54', 'EDV55-59', 'EDV60-64', 'EDV65-69',\n",
      "       'EDV70-74', 'EDV75-79', 'EDV80-84', 'EDV85-89', 'EDV90+'],\n",
      "      dtype='object')\n",
      "2022-03-16 20:32:54.869\n"
     ]
    }
   ],
   "source": [
    "logger.info(training.columns)"
   ]
  },
  {
   "cell_type": "markdown",
   "metadata": {},
   "source": [
    "<br>\n",
    "<br>\n",
    "\n",
    "### Reconstruction"
   ]
  },
  {
   "cell_type": "markdown",
   "metadata": {},
   "source": [
    "Reconstructions: Each data set is a concatenation of records from various NHS Trusts, however because the aim is a single predicting/forecasting model for all trusts, the data should be reconstructed ..."
   ]
  },
  {
   "cell_type": "code",
   "execution_count": 12,
   "metadata": {},
   "outputs": [],
   "source": [
    "reconstructions = src.modelling.DataReconstructions.DataReconstructions()\n",
    "training = reconstructions.exc(blob=training)\n",
    "validating = reconstructions.exc(blob=validating)\n",
    "testing = reconstructions.exc(blob=testing)"
   ]
  },
  {
   "cell_type": "markdown",
   "metadata": {},
   "source": [
    "<br>\n",
    "<br>\n",
    "\n",
    "### Differences"
   ]
  },
  {
   "cell_type": "markdown",
   "metadata": {},
   "source": [
    "Using difference values rather than actual values"
   ]
  },
  {
   "cell_type": "code",
   "execution_count": 13,
   "metadata": {},
   "outputs": [],
   "source": [
    "differences = src.modelling.Differences.Differences()\n",
    "training = differences.exc(blob=training)\n",
    "validating = differences.exc(blob=validating)\n",
    "testing = differences.exc(blob=testing)"
   ]
  },
  {
   "cell_type": "markdown",
   "metadata": {},
   "source": [
    "<br>\n",
    "<br>\n",
    "\n",
    "### Normalisation"
   ]
  },
  {
   "cell_type": "code",
   "execution_count": 14,
   "metadata": {},
   "outputs": [],
   "source": [
    "normalisation = src.modelling.DataNormalisation.DataNormalisation(reference=training)\n",
    "training_ = normalisation.normalise(blob=training)\n",
    "validating_ = normalisation.normalise(blob=validating)\n",
    "testing_ = normalisation.normalise(blob=testing)\n",
    "\n",
    "training_.drop(columns='point', inplace=True)\n",
    "validating_.drop(columns='point', inplace=True)\n",
    "testing_.drop(columns='point', inplace=True)"
   ]
  },
  {
   "cell_type": "markdown",
   "metadata": {},
   "source": [
    "<br>\n",
    "<br>\n",
    "\n",
    "### Modelling"
   ]
  },
  {
   "cell_type": "code",
   "execution_count": 15,
   "metadata": {},
   "outputs": [
    {
     "name": "stdout",
     "output_type": "stream",
     "text": [
      "Epoch 1/100\n",
      "2423/2423 [==============================] - 13s 5ms/step - loss: 6.6073 - mean_absolute_error: 0.9745 - val_loss: 0.5908 - val_mean_absolute_error: 0.5511\n",
      "Epoch 2/100\n",
      "2423/2423 [==============================] - 13s 5ms/step - loss: 1.1031 - mean_absolute_error: 0.5690 - val_loss: 0.5469 - val_mean_absolute_error: 0.5267\n",
      "Epoch 3/100\n",
      "2423/2423 [==============================] - 12s 5ms/step - loss: 1.1521 - mean_absolute_error: 0.5690 - val_loss: 0.5549 - val_mean_absolute_error: 0.5298\n",
      "Epoch 4/100\n",
      "2423/2423 [==============================] - 12s 5ms/step - loss: 1.1787 - mean_absolute_error: 0.5762 - val_loss: 0.5404 - val_mean_absolute_error: 0.5221\n",
      "Epoch 5/100\n",
      "2423/2423 [==============================] - 13s 5ms/step - loss: 1.1025 - mean_absolute_error: 0.5528 - val_loss: 0.5338 - val_mean_absolute_error: 0.5184\n",
      "Epoch 6/100\n",
      "2423/2423 [==============================] - 12s 5ms/step - loss: 1.0672 - mean_absolute_error: 0.5387 - val_loss: 0.5313 - val_mean_absolute_error: 0.5160\n",
      "Epoch 7/100\n",
      "2423/2423 [==============================] - 15s 6ms/step - loss: 1.3073 - mean_absolute_error: 0.6098 - val_loss: 0.5808 - val_mean_absolute_error: 0.5368\n",
      "Epoch 8/100\n",
      "2423/2423 [==============================] - 15s 6ms/step - loss: 1.0233 - mean_absolute_error: 0.5234 - val_loss: 0.5280 - val_mean_absolute_error: 0.5136\n",
      "Epoch 9/100\n",
      "2423/2423 [==============================] - 14s 6ms/step - loss: 1.2533 - mean_absolute_error: 0.5886 - val_loss: 0.5522 - val_mean_absolute_error: 0.5298\n",
      "Epoch 10/100\n",
      "2423/2423 [==============================] - 12s 5ms/step - loss: 1.0152 - mean_absolute_error: 0.5244 - val_loss: 0.5302 - val_mean_absolute_error: 0.5156\n",
      "Epoch 11/100\n",
      "2423/2423 [==============================] - 13s 5ms/step - loss: 1.2773 - mean_absolute_error: 0.6025 - val_loss: 0.5494 - val_mean_absolute_error: 0.5262\n",
      "Epoch 12/100\n",
      "2423/2423 [==============================] - 13s 5ms/step - loss: 1.0052 - mean_absolute_error: 0.5182 - val_loss: 0.5352 - val_mean_absolute_error: 0.5189\n",
      "Epoch 13/100\n",
      "2423/2423 [==============================] - 13s 5ms/step - loss: 1.1744 - mean_absolute_error: 0.5725 - val_loss: 0.5600 - val_mean_absolute_error: 0.5321\n",
      "Epoch 14/100\n",
      "2423/2423 [==============================] - 12s 5ms/step - loss: 1.0123 - mean_absolute_error: 0.5255 - val_loss: 0.5351 - val_mean_absolute_error: 0.5182\n",
      "Epoch 15/100\n",
      "2423/2423 [==============================] - 12s 5ms/step - loss: 1.3164 - mean_absolute_error: 0.5991 - val_loss: 0.5883 - val_mean_absolute_error: 0.5438\n",
      "Epoch 16/100\n",
      "2423/2423 [==============================] - 12s 5ms/step - loss: 1.0072 - mean_absolute_error: 0.5207 - val_loss: 0.5421 - val_mean_absolute_error: 0.5231\n",
      "Epoch 17/100\n",
      "2423/2423 [==============================] - 12s 5ms/step - loss: 1.1436 - mean_absolute_error: 0.5581 - val_loss: 0.5507 - val_mean_absolute_error: 0.5287\n",
      "Epoch 1/100\n",
      "2423/2423 [==============================] - 29s 11ms/step - loss: 0.9989 - mean_absolute_error: 0.5066 - val_loss: 0.5182 - val_mean_absolute_error: 0.5051\n",
      "Epoch 2/100\n",
      "2423/2423 [==============================] - 26s 11ms/step - loss: 0.9975 - mean_absolute_error: 0.5074 - val_loss: 0.5181 - val_mean_absolute_error: 0.5064\n",
      "Epoch 3/100\n",
      "2423/2423 [==============================] - 26s 11ms/step - loss: 0.9965 - mean_absolute_error: 0.5084 - val_loss: 0.5180 - val_mean_absolute_error: 0.5071\n",
      "Epoch 4/100\n",
      "2423/2423 [==============================] - 26s 11ms/step - loss: 0.9952 - mean_absolute_error: 0.5093 - val_loss: 0.5190 - val_mean_absolute_error: 0.5090\n",
      "Epoch 5/100\n",
      "2423/2423 [==============================] - 27s 11ms/step - loss: 0.9934 - mean_absolute_error: 0.5100 - val_loss: 0.5202 - val_mean_absolute_error: 0.5109\n",
      "Epoch 6/100\n",
      "2423/2423 [==============================] - 27s 11ms/step - loss: 0.9906 - mean_absolute_error: 0.5107 - val_loss: 0.5222 - val_mean_absolute_error: 0.5132\n",
      "Epoch 7/100\n",
      "2423/2423 [==============================] - 27s 11ms/step - loss: 0.9873 - mean_absolute_error: 0.5117 - val_loss: 0.5252 - val_mean_absolute_error: 0.5162\n",
      "Epoch 8/100\n",
      "2423/2423 [==============================] - 27s 11ms/step - loss: 0.9832 - mean_absolute_error: 0.5126 - val_loss: 0.5281 - val_mean_absolute_error: 0.5189\n",
      "Epoch 9/100\n",
      "2423/2423 [==============================] - 27s 11ms/step - loss: 0.9785 - mean_absolute_error: 0.5133 - val_loss: 0.5311 - val_mean_absolute_error: 0.5215\n",
      "Epoch 10/100\n",
      "2423/2423 [==============================] - 27s 11ms/step - loss: 0.9740 - mean_absolute_error: 0.5137 - val_loss: 0.5341 - val_mean_absolute_error: 0.5238\n",
      "Epoch 11/100\n",
      "2423/2423 [==============================] - 27s 11ms/step - loss: 0.9695 - mean_absolute_error: 0.5141 - val_loss: 0.5365 - val_mean_absolute_error: 0.5256\n",
      "Epoch 12/100\n",
      "2423/2423 [==============================] - 27s 11ms/step - loss: 0.9653 - mean_absolute_error: 0.5142 - val_loss: 0.5387 - val_mean_absolute_error: 0.5273\n",
      "Epoch 1/100\n",
      "2423/2423 [==============================] - 15s 6ms/step - loss: 4.4792 - mean_absolute_error: 0.8491 - val_loss: 0.5604 - val_mean_absolute_error: 0.5348\n",
      "Epoch 2/100\n",
      "2423/2423 [==============================] - 14s 6ms/step - loss: 1.1278 - mean_absolute_error: 0.5597 - val_loss: 0.5360 - val_mean_absolute_error: 0.5213\n",
      "Epoch 3/100\n",
      "2423/2423 [==============================] - 14s 6ms/step - loss: 1.0443 - mean_absolute_error: 0.5379 - val_loss: 0.5316 - val_mean_absolute_error: 0.5176\n",
      "Epoch 4/100\n",
      "2423/2423 [==============================] - 14s 6ms/step - loss: 1.1018 - mean_absolute_error: 0.5575 - val_loss: 0.5413 - val_mean_absolute_error: 0.5219\n",
      "Epoch 5/100\n",
      "2423/2423 [==============================] - 14s 6ms/step - loss: 1.0763 - mean_absolute_error: 0.5385 - val_loss: 0.5264 - val_mean_absolute_error: 0.5129\n",
      "Epoch 6/100\n",
      "2423/2423 [==============================] - 14s 6ms/step - loss: 1.3807 - mean_absolute_error: 0.6303 - val_loss: 0.5511 - val_mean_absolute_error: 0.5299\n",
      "Epoch 7/100\n",
      "2423/2423 [==============================] - 14s 6ms/step - loss: 1.0262 - mean_absolute_error: 0.5271 - val_loss: 0.5313 - val_mean_absolute_error: 0.5168\n",
      "Epoch 8/100\n",
      "2423/2423 [==============================] - 14s 6ms/step - loss: 1.3522 - mean_absolute_error: 0.6125 - val_loss: 0.5453 - val_mean_absolute_error: 0.5259\n",
      "Epoch 9/100\n",
      "2423/2423 [==============================] - 14s 6ms/step - loss: 1.0163 - mean_absolute_error: 0.5208 - val_loss: 0.5318 - val_mean_absolute_error: 0.5165\n",
      "Epoch 10/100\n",
      "2423/2423 [==============================] - 14s 6ms/step - loss: 1.1886 - mean_absolute_error: 0.5841 - val_loss: 0.5557 - val_mean_absolute_error: 0.5316\n",
      "Epoch 11/100\n",
      "2423/2423 [==============================] - 14s 6ms/step - loss: 1.0397 - mean_absolute_error: 0.5291 - val_loss: 0.5324 - val_mean_absolute_error: 0.5169\n",
      "Epoch 12/100\n",
      "2423/2423 [==============================] - 14s 6ms/step - loss: 1.7420 - mean_absolute_error: 0.6721 - val_loss: 0.5764 - val_mean_absolute_error: 0.5406\n",
      "Epoch 13/100\n",
      "2423/2423 [==============================] - 13s 6ms/step - loss: 1.0439 - mean_absolute_error: 0.5317 - val_loss: 0.5455 - val_mean_absolute_error: 0.5251\n",
      "Epoch 14/100\n",
      "2423/2423 [==============================] - 14s 6ms/step - loss: 1.0173 - mean_absolute_error: 0.5252 - val_loss: 0.5407 - val_mean_absolute_error: 0.5217\n",
      "Epoch 1/100\n",
      "2423/2423 [==============================] - 31s 12ms/step - loss: 0.9987 - mean_absolute_error: 0.5067 - val_loss: 0.5180 - val_mean_absolute_error: 0.5046\n",
      "Epoch 2/100\n",
      "2423/2423 [==============================] - 29s 12ms/step - loss: 0.9974 - mean_absolute_error: 0.5076 - val_loss: 0.5181 - val_mean_absolute_error: 0.5058\n",
      "Epoch 3/100\n",
      "2423/2423 [==============================] - 28s 12ms/step - loss: 0.9960 - mean_absolute_error: 0.5086 - val_loss: 0.5186 - val_mean_absolute_error: 0.5074\n",
      "Epoch 4/100\n",
      "2423/2423 [==============================] - 28s 12ms/step - loss: 0.9943 - mean_absolute_error: 0.5099 - val_loss: 0.5191 - val_mean_absolute_error: 0.5086\n",
      "Epoch 5/100\n",
      "2423/2423 [==============================] - 28s 12ms/step - loss: 0.9924 - mean_absolute_error: 0.5106 - val_loss: 0.5196 - val_mean_absolute_error: 0.5092\n",
      "Epoch 6/100\n",
      "2423/2423 [==============================] - 28s 11ms/step - loss: 0.9900 - mean_absolute_error: 0.5111 - val_loss: 0.5208 - val_mean_absolute_error: 0.5107\n",
      "Epoch 7/100\n",
      "2423/2423 [==============================] - 28s 12ms/step - loss: 0.9866 - mean_absolute_error: 0.5116 - val_loss: 0.5227 - val_mean_absolute_error: 0.5127\n",
      "Epoch 8/100\n",
      "2423/2423 [==============================] - 28s 12ms/step - loss: 0.9839 - mean_absolute_error: 0.5120 - val_loss: 0.5243 - val_mean_absolute_error: 0.5146\n",
      "Epoch 9/100\n",
      "2423/2423 [==============================] - 28s 12ms/step - loss: 0.9796 - mean_absolute_error: 0.5122 - val_loss: 0.5271 - val_mean_absolute_error: 0.5169\n",
      "Epoch 10/100\n",
      "2423/2423 [==============================] - 28s 12ms/step - loss: 0.9753 - mean_absolute_error: 0.5125 - val_loss: 0.5301 - val_mean_absolute_error: 0.5191\n",
      "Epoch 1/100\n",
      "2423/2423 [==============================] - 15s 6ms/step - loss: 3.7395 - mean_absolute_error: 0.7798 - val_loss: 0.5468 - val_mean_absolute_error: 0.5256\n",
      "Epoch 2/100\n",
      "2423/2423 [==============================] - 14s 6ms/step - loss: 1.0419 - mean_absolute_error: 0.5386 - val_loss: 0.5282 - val_mean_absolute_error: 0.5152\n",
      "Epoch 3/100\n",
      "2423/2423 [==============================] - 15s 6ms/step - loss: 1.0165 - mean_absolute_error: 0.5213 - val_loss: 0.5307 - val_mean_absolute_error: 0.5145\n",
      "Epoch 4/100\n",
      "2423/2423 [==============================] - 14s 6ms/step - loss: 1.3585 - mean_absolute_error: 0.6095 - val_loss: 0.5402 - val_mean_absolute_error: 0.5220\n",
      "Epoch 5/100\n",
      "2423/2423 [==============================] - 14s 6ms/step - loss: 1.0325 - mean_absolute_error: 0.5240 - val_loss: 0.5286 - val_mean_absolute_error: 0.5144\n",
      "Epoch 6/100\n",
      "2423/2423 [==============================] - 14s 6ms/step - loss: 1.0816 - mean_absolute_error: 0.5429 - val_loss: 0.5316 - val_mean_absolute_error: 0.5175\n",
      "Epoch 7/100\n",
      "2423/2423 [==============================] - 16s 6ms/step - loss: 1.2286 - mean_absolute_error: 0.5915 - val_loss: 0.5427 - val_mean_absolute_error: 0.5246\n",
      "Epoch 8/100\n",
      "2423/2423 [==============================] - 14s 6ms/step - loss: 1.0091 - mean_absolute_error: 0.5185 - val_loss: 0.5303 - val_mean_absolute_error: 0.5148\n",
      "Epoch 9/100\n",
      "2423/2423 [==============================] - 14s 6ms/step - loss: 1.3315 - mean_absolute_error: 0.6041 - val_loss: 0.5505 - val_mean_absolute_error: 0.5293\n",
      "Epoch 10/100\n",
      "2423/2423 [==============================] - 14s 6ms/step - loss: 1.0239 - mean_absolute_error: 0.5246 - val_loss: 0.5360 - val_mean_absolute_error: 0.5202\n",
      "Epoch 11/100\n",
      "2423/2423 [==============================] - 14s 6ms/step - loss: 2.2951 - mean_absolute_error: 0.7357 - val_loss: 0.6184 - val_mean_absolute_error: 0.5545\n",
      "Epoch 1/100\n",
      "2423/2423 [==============================] - 32s 12ms/step - loss: 0.9988 - mean_absolute_error: 0.5066 - val_loss: 0.5181 - val_mean_absolute_error: 0.5045\n",
      "Epoch 2/100\n",
      "2423/2423 [==============================] - 28s 12ms/step - loss: 0.9972 - mean_absolute_error: 0.5076 - val_loss: 0.5183 - val_mean_absolute_error: 0.5060\n",
      "Epoch 3/100\n",
      "2423/2423 [==============================] - 29s 12ms/step - loss: 0.9960 - mean_absolute_error: 0.5085 - val_loss: 0.5190 - val_mean_absolute_error: 0.5080\n",
      "Epoch 4/100\n",
      "2423/2423 [==============================] - 29s 12ms/step - loss: 0.9943 - mean_absolute_error: 0.5092 - val_loss: 0.5194 - val_mean_absolute_error: 0.5089\n",
      "Epoch 5/100\n",
      "2423/2423 [==============================] - 31s 13ms/step - loss: 0.9929 - mean_absolute_error: 0.5099 - val_loss: 0.5204 - val_mean_absolute_error: 0.5105\n",
      "Epoch 6/100\n",
      "2423/2423 [==============================] - 30s 12ms/step - loss: 0.9904 - mean_absolute_error: 0.5107 - val_loss: 0.5220 - val_mean_absolute_error: 0.5123\n",
      "Epoch 7/100\n",
      "2423/2423 [==============================] - 30s 12ms/step - loss: 0.9880 - mean_absolute_error: 0.5115 - val_loss: 0.5228 - val_mean_absolute_error: 0.5130\n",
      "Epoch 8/100\n",
      "2423/2423 [==============================] - 32s 13ms/step - loss: 0.9842 - mean_absolute_error: 0.5123 - val_loss: 0.5246 - val_mean_absolute_error: 0.5148\n",
      "Epoch 9/100\n",
      "2423/2423 [==============================] - 33s 14ms/step - loss: 0.9820 - mean_absolute_error: 0.5126 - val_loss: 0.5267 - val_mean_absolute_error: 0.5169\n",
      "Epoch 10/100\n",
      "2423/2423 [==============================] - 31s 13ms/step - loss: 0.9761 - mean_absolute_error: 0.5128 - val_loss: 0.5295 - val_mean_absolute_error: 0.5192\n",
      "Epoch 1/100\n",
      "2423/2423 [==============================] - 15s 6ms/step - loss: 6.8559 - mean_absolute_error: 0.9552 - val_loss: 0.5603 - val_mean_absolute_error: 0.5357\n",
      "Epoch 2/100\n",
      "2423/2423 [==============================] - 14s 6ms/step - loss: 1.1148 - mean_absolute_error: 0.5664 - val_loss: 0.5478 - val_mean_absolute_error: 0.5284\n",
      "Epoch 3/100\n",
      "2423/2423 [==============================] - 16s 6ms/step - loss: 1.1016 - mean_absolute_error: 0.5632 - val_loss: 0.5710 - val_mean_absolute_error: 0.5393\n",
      "Epoch 4/100\n",
      "2423/2423 [==============================] - 14s 6ms/step - loss: 1.0521 - mean_absolute_error: 0.5399 - val_loss: 0.5309 - val_mean_absolute_error: 0.5173\n",
      "Epoch 5/100\n",
      "2423/2423 [==============================] - 16s 6ms/step - loss: 6.0766 - mean_absolute_error: 1.0360 - val_loss: 1.6217 - val_mean_absolute_error: 0.8241\n",
      "Epoch 6/100\n",
      "2423/2423 [==============================] - 15s 6ms/step - loss: 1.0828 - mean_absolute_error: 0.5556 - val_loss: 0.5545 - val_mean_absolute_error: 0.5322\n",
      "Epoch 7/100\n",
      "2423/2423 [==============================] - 16s 6ms/step - loss: 1.0330 - mean_absolute_error: 0.5269 - val_loss: 0.5326 - val_mean_absolute_error: 0.5189\n",
      "Epoch 8/100\n",
      "2423/2423 [==============================] - 15s 6ms/step - loss: 1.0984 - mean_absolute_error: 0.5437 - val_loss: 0.5338 - val_mean_absolute_error: 0.5190\n",
      "Epoch 9/100\n",
      "2423/2423 [==============================] - 15s 6ms/step - loss: 1.0085 - mean_absolute_error: 0.5244 - val_loss: 0.5339 - val_mean_absolute_error: 0.5185\n",
      "Epoch 10/100\n",
      "2423/2423 [==============================] - 15s 6ms/step - loss: 1.3870 - mean_absolute_error: 0.6260 - val_loss: 0.5776 - val_mean_absolute_error: 0.5427\n",
      "Epoch 11/100\n",
      "2423/2423 [==============================] - 20s 8ms/step - loss: 1.0167 - mean_absolute_error: 0.5301 - val_loss: 0.5441 - val_mean_absolute_error: 0.5247\n",
      "Epoch 12/100\n",
      "2423/2423 [==============================] - 19s 8ms/step - loss: 1.0966 - mean_absolute_error: 0.5496 - val_loss: 0.5447 - val_mean_absolute_error: 0.5263\n",
      "Epoch 13/100\n",
      "2423/2423 [==============================] - 15s 6ms/step - loss: 1.0112 - mean_absolute_error: 0.5300 - val_loss: 0.5453 - val_mean_absolute_error: 0.5253\n",
      "Epoch 1/100\n",
      "2423/2423 [==============================] - 37s 13ms/step - loss: 0.9988 - mean_absolute_error: 0.5067 - val_loss: 0.5184 - val_mean_absolute_error: 0.5042\n",
      "Epoch 2/100\n",
      "2423/2423 [==============================] - 33s 14ms/step - loss: 0.9976 - mean_absolute_error: 0.5075 - val_loss: 0.5182 - val_mean_absolute_error: 0.5055\n",
      "Epoch 3/100\n",
      "2423/2423 [==============================] - 32s 13ms/step - loss: 0.9967 - mean_absolute_error: 0.5081 - val_loss: 0.5184 - val_mean_absolute_error: 0.5066\n",
      "Epoch 4/100\n",
      "2423/2423 [==============================] - 31s 13ms/step - loss: 0.9955 - mean_absolute_error: 0.5087 - val_loss: 0.5191 - val_mean_absolute_error: 0.5080\n",
      "Epoch 5/100\n",
      "2423/2423 [==============================] - 32s 13ms/step - loss: 0.9939 - mean_absolute_error: 0.5096 - val_loss: 0.5200 - val_mean_absolute_error: 0.5096\n",
      "Epoch 6/100\n",
      "2423/2423 [==============================] - 32s 13ms/step - loss: 0.9919 - mean_absolute_error: 0.5104 - val_loss: 0.5212 - val_mean_absolute_error: 0.5113\n",
      "Epoch 7/100\n",
      "2423/2423 [==============================] - 33s 14ms/step - loss: 0.9896 - mean_absolute_error: 0.5113 - val_loss: 0.5228 - val_mean_absolute_error: 0.5132\n",
      "Epoch 8/100\n",
      "2423/2423 [==============================] - 32s 13ms/step - loss: 0.9867 - mean_absolute_error: 0.5120 - val_loss: 0.5244 - val_mean_absolute_error: 0.5150\n",
      "Epoch 9/100\n",
      "2423/2423 [==============================] - 33s 14ms/step - loss: 0.9827 - mean_absolute_error: 0.5122 - val_loss: 0.5270 - val_mean_absolute_error: 0.5177\n",
      "Epoch 10/100\n",
      "2423/2423 [==============================] - 33s 14ms/step - loss: 0.9778 - mean_absolute_error: 0.5126 - val_loss: 0.5302 - val_mean_absolute_error: 0.5203\n",
      "Epoch 11/100\n",
      "2423/2423 [==============================] - 33s 14ms/step - loss: 0.9730 - mean_absolute_error: 0.5131 - val_loss: 0.5341 - val_mean_absolute_error: 0.5234\n",
      "Epoch 1/100\n",
      "2423/2423 [==============================] - 17s 7ms/step - loss: 6.0934 - mean_absolute_error: 0.8435 - val_loss: 0.5698 - val_mean_absolute_error: 0.5401\n",
      "Epoch 2/100\n",
      "2423/2423 [==============================] - 16s 7ms/step - loss: 1.0603 - mean_absolute_error: 0.5490 - val_loss: 0.5381 - val_mean_absolute_error: 0.5213\n",
      "Epoch 3/100\n",
      "2423/2423 [==============================] - 16s 7ms/step - loss: 1.3168 - mean_absolute_error: 0.6215 - val_loss: 0.5721 - val_mean_absolute_error: 0.5379\n",
      "Epoch 4/100\n",
      "2423/2423 [==============================] - 16s 7ms/step - loss: 1.0771 - mean_absolute_error: 0.5341 - val_loss: 0.5306 - val_mean_absolute_error: 0.5142\n",
      "Epoch 5/100\n",
      "2423/2423 [==============================] - 16s 7ms/step - loss: 1.0961 - mean_absolute_error: 0.5542 - val_loss: 0.5336 - val_mean_absolute_error: 0.5151\n",
      "Epoch 6/100\n",
      "2423/2423 [==============================] - 16s 7ms/step - loss: 1.0686 - mean_absolute_error: 0.5369 - val_loss: 0.5288 - val_mean_absolute_error: 0.5142\n",
      "Epoch 7/100\n",
      "2423/2423 [==============================] - 17s 7ms/step - loss: 1.1922 - mean_absolute_error: 0.5823 - val_loss: 0.6083 - val_mean_absolute_error: 0.5516\n",
      "Epoch 8/100\n",
      "2423/2423 [==============================] - 16s 7ms/step - loss: 1.0409 - mean_absolute_error: 0.5301 - val_loss: 0.5341 - val_mean_absolute_error: 0.5182\n",
      "Epoch 9/100\n",
      "2423/2423 [==============================] - 18s 8ms/step - loss: 1.1018 - mean_absolute_error: 0.5557 - val_loss: 0.5443 - val_mean_absolute_error: 0.5251\n",
      "Epoch 10/100\n",
      "2423/2423 [==============================] - 16s 7ms/step - loss: 1.0289 - mean_absolute_error: 0.5290 - val_loss: 0.5346 - val_mean_absolute_error: 0.5172\n",
      "Epoch 11/100\n",
      "2423/2423 [==============================] - 16s 7ms/step - loss: 1.3547 - mean_absolute_error: 0.6082 - val_loss: 0.5578 - val_mean_absolute_error: 0.5323\n",
      "Epoch 12/100\n",
      "2423/2423 [==============================] - 16s 7ms/step - loss: 1.0184 - mean_absolute_error: 0.5256 - val_loss: 0.5412 - val_mean_absolute_error: 0.5227\n",
      "Epoch 13/100\n",
      "2423/2423 [==============================] - 17s 7ms/step - loss: 1.0929 - mean_absolute_error: 0.5523 - val_loss: 0.5485 - val_mean_absolute_error: 0.5270\n",
      "Epoch 14/100\n",
      "2423/2423 [==============================] - 17s 7ms/step - loss: 4.1598 - mean_absolute_error: 0.8220 - val_loss: 0.8863 - val_mean_absolute_error: 0.6398\n",
      "Epoch 15/100\n",
      "2423/2423 [==============================] - 17s 7ms/step - loss: 1.0468 - mean_absolute_error: 0.5455 - val_loss: 0.5605 - val_mean_absolute_error: 0.5329\n",
      "Epoch 1/100\n",
      "2423/2423 [==============================] - 36s 14ms/step - loss: 0.9989 - mean_absolute_error: 0.5064 - val_loss: 0.5182 - val_mean_absolute_error: 0.5045\n",
      "Epoch 2/100\n",
      "2423/2423 [==============================] - 32s 13ms/step - loss: 0.9975 - mean_absolute_error: 0.5076 - val_loss: 0.5184 - val_mean_absolute_error: 0.5061\n",
      "Epoch 3/100\n",
      "2423/2423 [==============================] - 33s 14ms/step - loss: 0.9959 - mean_absolute_error: 0.5084 - val_loss: 0.5191 - val_mean_absolute_error: 0.5080\n",
      "Epoch 4/100\n",
      "2423/2423 [==============================] - 33s 14ms/step - loss: 0.9942 - mean_absolute_error: 0.5094 - val_loss: 0.5199 - val_mean_absolute_error: 0.5094\n",
      "Epoch 5/100\n",
      "2423/2423 [==============================] - 33s 14ms/step - loss: 0.9922 - mean_absolute_error: 0.5102 - val_loss: 0.5217 - val_mean_absolute_error: 0.5121\n",
      "Epoch 6/100\n",
      "2423/2423 [==============================] - 33s 14ms/step - loss: 0.9899 - mean_absolute_error: 0.5108 - val_loss: 0.5236 - val_mean_absolute_error: 0.5141\n",
      "Epoch 7/100\n",
      "2423/2423 [==============================] - 34s 14ms/step - loss: 0.9862 - mean_absolute_error: 0.5112 - val_loss: 0.5268 - val_mean_absolute_error: 0.5173\n",
      "Epoch 8/100\n",
      "2423/2423 [==============================] - 34s 14ms/step - loss: 0.9826 - mean_absolute_error: 0.5120 - val_loss: 0.5311 - val_mean_absolute_error: 0.5209\n",
      "Epoch 9/100\n",
      "2423/2423 [==============================] - 35s 14ms/step - loss: 0.9780 - mean_absolute_error: 0.5126 - val_loss: 0.5357 - val_mean_absolute_error: 0.5244\n",
      "Epoch 10/100\n",
      "2423/2423 [==============================] - 33s 14ms/step - loss: 0.9728 - mean_absolute_error: 0.5133 - val_loss: 0.5398 - val_mean_absolute_error: 0.5275\n"
     ]
    },
    {
     "name": "stderr",
     "output_type": "stream",
     "text": [
      "\n",
      "\n",
      "  method history ahead      loss       mae\n",
      "0    CNN      18    15  0.550707  0.528657\n",
      "1   LSTM      18    15  0.538723  0.527325\n",
      "2    CNN      19    15  0.540729  0.521727\n",
      "3   LSTM      19    15  0.530134  0.519053\n",
      "4    CNN      20    15  0.618428  0.554454\n",
      "5   LSTM      20    15  0.529472  0.519232\n",
      "6    CNN      21    15  0.545342  0.525292\n",
      "7   LSTM      21    15  0.534071  0.523419\n",
      "8    CNN      22    15  0.560468  0.532892\n",
      "9   LSTM      22    15  0.539802  0.527458\n",
      "2022-03-16 21:17:42.418\n",
      "\n",
      "\n",
      "  method history ahead      loss       mae\n",
      "0    CNN      18    15  0.894029  0.391921\n",
      "1   LSTM      18    15  0.717038  0.347893\n",
      "2    CNN      19    15  0.749748  0.349158\n",
      "3   LSTM      19    15  0.694559  0.342238\n",
      "4    CNN      20    15   1.35914  0.504816\n",
      "5   LSTM      20    15  0.694891  0.346347\n",
      "6    CNN      21    15  0.753045  0.349489\n",
      "7   LSTM      21    15  0.696939   0.33825\n",
      "8    CNN      22    15   0.86576  0.388487\n",
      "9   LSTM      22    15  0.696852  0.350093\n",
      "2022-03-16 21:17:42.426\n"
     ]
    }
   ],
   "source": [
    "arguments = Arguments(input_width=None, label_width=output_steps, shift=output_steps,\n",
    "                      training_=training_, validating_=validating_, testing_=testing_,\n",
    "                      label_columns=['estimatedNewAdmissions'])\n",
    "\n",
    "validations, tests = src.modelling.Estimates.Estimates(\n",
    "    n_features=training_.shape[1], \n",
    "    output_steps=output_steps).exc(widths=widths, arguments=arguments)\n",
    "\n",
    "logger.info(validations)\n",
    "logger.info(tests)"
   ]
  },
  {
   "cell_type": "markdown",
   "metadata": {},
   "source": [
    "<br>\n",
    "<br>\n",
    "\n",
    "### Delete DAG Diagrams"
   ]
  },
  {
   "cell_type": "code",
   "execution_count": 16,
   "metadata": {},
   "outputs": [],
   "source": [
    "%%bash\n",
    "\n",
    "rm -rf *.pdf"
   ]
  }
 ],
 "metadata": {
  "kernelspec": {
   "display_name": "Python 3",
   "language": "python",
   "name": "python3"
  },
  "language_info": {
   "codemirror_mode": {
    "name": "ipython",
    "version": 3
   },
   "file_extension": ".py",
   "mimetype": "text/x-python",
   "name": "python",
   "nbconvert_exporter": "python",
   "pygments_lexer": "ipython3",
   "version": "3.7.11"
  }
 },
 "nbformat": 4,
 "nbformat_minor": 4
}
